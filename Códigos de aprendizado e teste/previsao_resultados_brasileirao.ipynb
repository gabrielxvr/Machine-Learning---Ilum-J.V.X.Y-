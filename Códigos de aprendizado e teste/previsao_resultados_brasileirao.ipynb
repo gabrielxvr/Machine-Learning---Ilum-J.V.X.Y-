{
 "cells": [
  {
   "cell_type": "markdown",
   "id": "c8aa4747-a614-40e2-9b7d-dd006d057422",
   "metadata": {},
   "source": [
    "# Previsão de resultados do Brasileirão"
   ]
  },
  {
   "cell_type": "markdown",
   "id": "8253aff3-2339-4f9a-83d3-7a64e8923779",
   "metadata": {},
   "source": [
    "Este código busca utilizar modelos de aprendizado de máquina para predizer o resultado de jogos do Brasileirão."
   ]
  },
  {
   "cell_type": "code",
   "execution_count": 678,
   "id": "2ff026bd-6f07-42b2-9fb1-deddf70444c2",
   "metadata": {},
   "outputs": [],
   "source": [
    "# importanto algumas bibliotecas necessárias\n",
    "import pandas as pd\n",
    "import matplotlib.pyplot as plt\n",
    "import seaborn as sns"
   ]
  },
  {
   "cell_type": "code",
   "execution_count": 679,
   "id": "9bd90f1e-eb68-4f2f-9741-b4856b8fbf71",
   "metadata": {},
   "outputs": [
    {
     "name": "stderr",
     "output_type": "stream",
     "text": [
      "c:\\venv\\ilumpy\\lib\\site-packages\\openpyxl\\worksheet\\header_footer.py:48: UserWarning: Cannot parse header or footer so it will be ignored\n",
      "  warn(\"\"\"Cannot parse header or footer so it will be ignored\"\"\")\n"
     ]
    }
   ],
   "source": [
    "# importanto o dataframe\n",
    "\n",
    "# Código para ler o arquivo em xls e retorná-lo em dataframe\n",
    "dfbr = pd.read_excel(\"dados brasileirao.xlsx\") "
   ]
  },
  {
   "cell_type": "code",
   "execution_count": 680,
   "id": "524c0b0c-ac19-4048-9b76-7a1f93627731",
   "metadata": {
    "jupyter": {
     "source_hidden": true
    },
    "tags": []
   },
   "outputs": [],
   "source": [
    "nan = dfbr.loc[0][\"arbitro\"]"
   ]
  },
  {
   "cell_type": "code",
   "execution_count": 681,
   "id": "55a3f70c-777e-4191-9bd0-c093da8f51ef",
   "metadata": {},
   "outputs": [],
   "source": [
    "# Nesta linha, foram tiradas todas as linhas que possuiam dados faltantes, visto que os anos iniciais não tinham todos os dados da tabela preenchidos.\n",
    "dfbr = dfbr.dropna(axis = 0)"
   ]
  },
  {
   "cell_type": "markdown",
   "id": "42c92afe-0869-48e4-a35a-f11b54035db4",
   "metadata": {
    "jp-MarkdownHeadingCollapsed": true,
    "tags": []
   },
   "source": [
    "### Minha ideia\n",
    "\n",
    "Eu vou dividir o dataframe entre os times. Então, para cada jogo, eu associarei a tendência de gols, escanteios, chutes, escanteios, entre outros, de cada time. Dessa forma, após a adição das tendências, eu terei um dataframe parecido com o inicial, porém, com uma adição de diversas novas features que tornarão o modelo de previsão mais completo."
   ]
  },
  {
   "cell_type": "markdown",
   "id": "0cbabada-a2dd-4ac1-ab38-da9355adb7e0",
   "metadata": {},
   "source": [
    "### Execução"
   ]
  },
  {
   "cell_type": "code",
   "execution_count": 682,
   "id": "09c8a718-ae71-40df-815f-d199abeb013d",
   "metadata": {
    "tags": []
   },
   "outputs": [],
   "source": [
    "def tendencia_de_uma_lista(lista_feature, razao):\n",
    "    divisor = 1*(1 - razao**4)/(1 - razao)\n",
    "    soma = 0\n",
    "    for i in range(4):\n",
    "        termo = lista_feature[-(i+1)]*(razao**(i))\n",
    "        soma = soma + termo\n",
    "        \n",
    "    tendencia = soma/divisor\n",
    "    \n",
    "    return round(tendencia, 3)"
   ]
  },
  {
   "cell_type": "code",
   "execution_count": 683,
   "id": "21c5f1fc-222a-4904-9617-3e517537c6cb",
   "metadata": {
    "tags": []
   },
   "outputs": [],
   "source": [
    "def feature_conjugada(feature):\n",
    "    if feature == 'gols_man':\n",
    "        return 'gols_vis', 'time_man'\n",
    "    \n",
    "    elif feature == 'gols_vis':\n",
    "        return 'gols_man', 'time_vis'\n",
    "    \n",
    "    elif feature == 'gols_1_tempo_man':\n",
    "        return 'gols_1_tempo_vis','time_man'\n",
    "    \n",
    "    elif feature == 'gols_1_tempo_vis':\n",
    "        return 'gols_1_tempo_man', 'time_vis'\n",
    "    \n",
    "    elif feature == 'escanteios_man':\n",
    "        return 'escanteios_vis', 'time_man'\n",
    "    \n",
    "    elif feature == 'escanteios_vis':\n",
    "        return 'escanteios_man', 'time_vis'\n",
    "    \n",
    "    elif feature == 'faltas_man':\n",
    "        return 'faltas_vis', 'time_man'\n",
    "    \n",
    "    elif feature == 'faltas_vis':\n",
    "        return 'faltas_man', 'time_vis'\n",
    "        \n",
    "    elif feature == 'chutes_bola_parada_man':\n",
    "        return 'chutes_bola_parada_vis', 'time_man'\n",
    "        \n",
    "    elif feature == 'chutes_bola_parada_vis':\n",
    "        return 'chutes_bola_parada_man', 'time_vis'\n",
    "    \n",
    "    elif feature == 'defesas_man':\n",
    "        return 'defesas_vis', 'time_man'\n",
    "    \n",
    "    elif feature == 'defesas_vis':\n",
    "        return 'defesas_man', 'time_vis'\n",
    "    \n",
    "    elif feature == 'impedimentos_man':\n",
    "        return 'impedimentos_vis', 'time_man'\n",
    "    \n",
    "    elif feature == 'impedimentos_vis':\n",
    "        return 'impedimentos_man', 'time_vis'\n",
    "    \n",
    "    elif feature == 'chutes_man':\n",
    "        return 'chutes_vis', 'time_man'\n",
    "    \n",
    "    elif feature == 'chutes_vis':\n",
    "        return 'chutes_man', 'time_vis'\n",
    "        \n",
    "    elif feature == 'chutes_fora_man':\n",
    "        return 'chutes_fora_vis', 'time_man'\n",
    "    \n",
    "    elif feature == 'chutes_fora_vis':\n",
    "        return 'chutes_fora_man', 'time_vis'\n",
    "        \n",
    "    else:\n",
    "        print(\"Você tem certeza que essa feature faz parte do dataframe e que possui conjugado?\")\n",
    "        return False, False"
   ]
  },
  {
   "cell_type": "code",
   "execution_count": 684,
   "id": "bf5f3a5d-d004-4a57-a200-ec6398e013b5",
   "metadata": {},
   "outputs": [],
   "source": [
    "lista_das_features = ['gols_man', 'gols_1_tempo_man', 'escanteios_man', 'faltas_man', 'chutes_bola_parada_man', 'defesas_man', 'impedimentos_man', 'chutes_man', 'chutes_fora_man']"
   ]
  },
  {
   "cell_type": "code",
   "execution_count": 685,
   "id": "48efb414-3789-46ab-b859-aa9ab11748f1",
   "metadata": {
    "tags": []
   },
   "outputs": [],
   "source": [
    "novas_colunas = []\n",
    "\n",
    "for feat in lista_das_features:\n",
    "    feat_conj = feature_conjugada(feat)[0]\n",
    "    nome_nova_coluna = \"tendencia_\" + feat\n",
    "    nome_nova_coluna_conj = \"tendencia_\" + feat_conj\n",
    "    novas_colunas.append(nome_nova_coluna)\n",
    "    novas_colunas.append(nome_nova_coluna_conj)"
   ]
  },
  {
   "cell_type": "code",
   "execution_count": 686,
   "id": "61c56ed0-63ce-4ff6-aa7a-e88700c71449",
   "metadata": {},
   "outputs": [],
   "source": [
    "for coluna in novas_colunas:\n",
    "    dfbr[coluna] = nan"
   ]
  },
  {
   "cell_type": "code",
   "execution_count": 687,
   "id": "fd88395c-0356-4d2d-a54b-0fc5b29fc678",
   "metadata": {},
   "outputs": [],
   "source": [
    "def tendencia(index, razao):\n",
    "    \n",
    "    # Análise do time mandante\n",
    "    time_man = dfbr.loc[index][\"time_man\"] # time mandante\n",
    "    #print(time_man)\n",
    "    df_anteriores_man = dfbr.loc[((dfbr[\"time_man\"] == time_man) | (dfbr[\"time_vis\"] == time_man)) & (dfbr.index < index)]\n",
    "    \n",
    "    # Análise do time visitante\n",
    "    time_vis = dfbr.loc[index][\"time_vis\"] # time visitante\n",
    "    \n",
    "    #print(time_vis)\n",
    "    \n",
    "    df_anteriores_vis = dfbr.loc[((dfbr[\"time_man\"] == time_vis) | (dfbr[\"time_vis\"] == time_vis)) & (dfbr.index < index)]\n",
    "    \n",
    "    #print(df_anteriores_vis)\n",
    "    \n",
    "    for feature in lista_das_features:\n",
    "        \n",
    "        #print(feature)\n",
    "        \n",
    "        feature_conj = feature_conjugada(feature)[0]\n",
    "        \n",
    "        lista_feature_time = []\n",
    "        \n",
    "        for i in df_anteriores_man.index:\n",
    "    \n",
    "            if df_anteriores_man[\"time_man\"][i] == time_man:\n",
    "                lista_feature_time.append(df_anteriores_man[feature][i])\n",
    "        \n",
    "            if df_anteriores_man[\"time_vis\"][i] == time_man:\n",
    "                lista_feature_time.append(df_anteriores_man[feature_conj][i])\n",
    "                \n",
    "        lista_feature_conj_time = []\n",
    "        \n",
    "        for j in df_anteriores_vis.index:\n",
    "            \n",
    "            #print(df_anteriores_vis[\"time_vis\"][j])\n",
    "\n",
    "            if df_anteriores_vis[\"time_man\"][j] == time_vis:\n",
    "                lista_feature_conj_time.append(df_anteriores_vis[feature][j])\n",
    "        \n",
    "            if df_anteriores_vis[\"time_vis\"][j] == time_vis:\n",
    "                lista_feature_conj_time.append(df_anteriores_vis[feature_conj][j])\n",
    "                \n",
    "        if len(lista_feature_time) >= 4 and len(lista_feature_conj_time) >= 4:\n",
    "            \n",
    "            #print(lista_feature_time)\n",
    "            \n",
    "            tendencia_feature = tendencia_de_uma_lista(lista_feature_time, razao)\n",
    "                    \n",
    "            #print(tendencia_feature)\n",
    "            \n",
    "            #print(lista_feature_conj_time)\n",
    "            \n",
    "            tendencia_feature_conj = tendencia_de_uma_lista(lista_feature_conj_time, razao)\n",
    "            \n",
    "            nome_coluna = \"tendencia_\" + feature\n",
    "            \n",
    "            nome_coluna_conj = \"tendencia_\" + feature_conj\n",
    "            \n",
    "            dfbr.at[index, nome_coluna] = tendencia_feature\n",
    "            \n",
    "            dfbr.at[index, nome_coluna_conj] = tendencia_feature_conj\n",
    "            \n",
    "    return "
   ]
  },
  {
   "cell_type": "code",
   "execution_count": 688,
   "id": "24e5a177-932e-4a32-bd51-16d22fa4faa7",
   "metadata": {},
   "outputs": [],
   "source": [
    "for i in dfbr.index:\n",
    "    tendencia(i, 0.5)"
   ]
  },
  {
   "cell_type": "code",
   "execution_count": 689,
   "id": "c5a606e8-a375-4e34-a4de-0b3cc8ae44ac",
   "metadata": {},
   "outputs": [],
   "source": [
    "# Nesta linha, novamente, foram tiradas todas as linhas que possuiam dados faltantes, visto que os anos iniciais não tinham todos os dados da tabela preenchidos.\n",
    "dfbr = dfbr.dropna(axis = 0)"
   ]
  },
  {
   "cell_type": "code",
   "execution_count": 690,
   "id": "9078f8b1-5fb5-4b2b-87a9-4df7a8cd18b3",
   "metadata": {},
   "outputs": [],
   "source": [
    "# Nesta linha, foram retiradas todas as colunas que possuiam dados relativos à estáticas após o começo do jogo. Os Dados após o jogo começar não nos ajudam a prever os nossos resultados, pois são muito específicos de cada jogo. Então vamos analisar o principal: número de gols\n",
    "dfbr = dfbr.drop([\"escanteios_man\", \"escanteios_vis\", \"publico_max\", \"faltas_man\", \"faltas_vis\", \"chutes_bola_parada_man\", \"chutes_bola_parada_vis\", \"defesas_man\", \"defesas_vis\", \"impedimentos_man\", \"impedimentos_vis\", \"chutes_man\", \"chutes_vis\", \"chutes_fora_man\", \"chutes_fora_vis\", \"gols_1_tempo_man\", \"gols_1_tempo_vis\", 'Unnamed: 0', 'ano_campeonato', 'data', 'horario', 'estadio', 'arbitro', 'time_man', 'time_vis', 'tecnico_man', 'tecnico_vis', 'rodada'], axis=1)"
   ]
  },
  {
   "cell_type": "markdown",
   "id": "5308228b-0b16-46d7-9e76-1bf627907d0b",
   "metadata": {},
   "source": [
    "### Machine Learning"
   ]
  },
  {
   "cell_type": "code",
   "execution_count": 691,
   "id": "8ea516e4-ea75-45dd-8a02-034730ff6e51",
   "metadata": {},
   "outputs": [],
   "source": [
    "# Divisão dos dados do dataset em treino e teste\n",
    "\n",
    "from sklearn.model_selection import train_test_split # Divisão feita usando a função train_test_split\n",
    "\n",
    "TAMANHO_TESTE = 0.1 # Porcentagem destinada do dataset ao grupo de teste\n",
    "SEMENTE_ALEATORIA = 122106 # Definição de uma seed para evitar mudança desses grupos\n",
    "\n",
    "# Escolha dos índices e seleção feita pela função\n",
    "indices = dfbr.index\n",
    "indices_treino, indices_teste = train_test_split(\n",
    "    indices, test_size=TAMANHO_TESTE, random_state=SEMENTE_ALEATORIA\n",
    ")\n",
    "\n",
    "# Atribuição dos índices escolhidos aos dados\n",
    "dfbr_treino = dfbr.loc[indices_treino].sort_index()\n",
    "dfbr_teste = dfbr.loc[indices_teste].sort_index()\n",
    "\n",
    "# Aqui são escolhidos os atributos do dataset e é definido o target \n",
    "\n",
    "FEATURES = ['publico', 'colocacao_man', 'colocacao_vis', 'valor_equipe_titular_man',\n",
    "       'valor_equipe_titular_vis', 'idade_media_titular_man',\n",
    "       'idade_media_titular_vis', 'tendencia_gols_man',\n",
    "       'tendencia_gols_vis', 'tendencia_gols_1_tempo_man',\n",
    "       'tendencia_gols_1_tempo_vis', 'tendencia_escanteios_man',\n",
    "       'tendencia_escanteios_vis', 'tendencia_faltas_man',\n",
    "       'tendencia_faltas_vis', 'tendencia_chutes_bola_parada_man',\n",
    "       'tendencia_chutes_bola_parada_vis', 'tendencia_defesas_man',\n",
    "       'tendencia_defesas_vis', 'tendencia_impedimentos_man',\n",
    "       'tendencia_impedimentos_vis', 'tendencia_chutes_man',\n",
    "       'tendencia_chutes_vis', 'tendencia_chutes_fora_man',\n",
    "       'tendencia_chutes_fora_vis']\n",
    "TARGET = [\"gols_man\"]\n",
    "\n",
    "# Divide os dados para se adequarem aos modelos\n",
    "\n",
    "X_treino = dfbr_treino.reindex(FEATURES, axis=1).values\n",
    "y_treino = dfbr_treino.reindex(TARGET, axis=1).values\n",
    "X_teste = dfbr_teste.reindex(FEATURES, axis=1).values\n",
    "y_teste = dfbr_teste.reindex(TARGET, axis=1).values"
   ]
  },
  {
   "cell_type": "markdown",
   "id": "3506cbf9-cd23-436b-8601-b589a9487857",
   "metadata": {},
   "source": [
    "### Modelo Baseline"
   ]
  },
  {
   "cell_type": "code",
   "execution_count": 692,
   "id": "c2dea812-312b-4245-8050-5f53a34ff1df",
   "metadata": {},
   "outputs": [
    {
     "name": "stdout",
     "output_type": "stream",
     "text": [
      "O time mandante faria 1.3989983305509182 gols\n",
      "O RMSE do modelo baseline foi de 1.0373648770321195 gols.\n"
     ]
    }
   ],
   "source": [
    "from sklearn.dummy import DummyRegressor\n",
    "from sklearn.metrics import mean_squared_error\n",
    "\n",
    "# Cria um modelo baseline para termos uma base de comparação com outros modelos\n",
    "modelo_baseline = DummyRegressor()\n",
    "\n",
    "# Treina o modelo de acordo com os dados escolhidos antes\n",
    "modelo_baseline.fit(X_treino, y_treino)\n",
    "\n",
    "# Realiza uma previsão usando o modelo treinado\n",
    "previsao_baseline = modelo_baseline.predict(X_teste)\n",
    "print(f\"O time mandante faria {previsao_baseline[0]} gols\")\n",
    "\n",
    "# Verificando o erro do modelo usando o RMSE (root mean squared error)\n",
    "y_verdadeiro = y_teste\n",
    "y_previsao_baseline = modelo_baseline.predict(X_teste)\n",
    "\n",
    "RMSE = mean_squared_error(y_verdadeiro, y_previsao_baseline, squared=False)\n",
    "\n",
    "print(f\"O RMSE do modelo baseline foi de {RMSE} gols.\")"
   ]
  },
  {
   "cell_type": "markdown",
   "id": "42083062-0bbb-4be1-a1e4-e62eff1fcd0b",
   "metadata": {},
   "source": [
    "### Regressão Linear"
   ]
  },
  {
   "cell_type": "code",
   "execution_count": 693,
   "id": "3c98fc0b-b47d-46a9-af4f-b25db552380a",
   "metadata": {},
   "outputs": [
    {
     "name": "stdout",
     "output_type": "stream",
     "text": [
      "O time mandante faria [1.89004739] gols\n",
      "O RMSE do modelo linear foi de 1.0238865067603353 gols.\n"
     ]
    }
   ],
   "source": [
    "from sklearn.linear_model import LinearRegression\n",
    "\n",
    "# Cria um modelo linear\n",
    "modelo_linear = LinearRegression()\n",
    "\n",
    "# Treina esse modelo \n",
    "modelo_linear.fit(X_treino, y_treino)\n",
    "\n",
    "# Realiza uma previsão usando o modelo treinado\n",
    "previsao_linear = modelo_linear.predict(X_teste)\n",
    "print(f\"O time mandante faria {previsao_linear[0]} gols\") # Foi escolhida apenas uma linha para melhorar a visualização\n",
    "\n",
    "# Verificando o erro do modelo usando o RMSE (root mean squared error)\n",
    "\n",
    "y_verdadeiro = y_teste\n",
    "y_previsao_linear = modelo_linear.predict(X_teste)\n",
    "\n",
    "RMSE = mean_squared_error(y_verdadeiro, y_previsao_linear, squared=False)\n",
    "\n",
    "print(f\"O RMSE do modelo linear foi de {RMSE} gols.\")"
   ]
  },
  {
   "cell_type": "markdown",
   "id": "584c9bef-7f54-4071-b469-2b431fbd0a8f",
   "metadata": {},
   "source": [
    "### Regressão Linear Normalizada"
   ]
  },
  {
   "cell_type": "code",
   "execution_count": 694,
   "id": "5f6c910f-acbb-47f3-ad09-34a1be291c7c",
   "metadata": {},
   "outputs": [
    {
     "name": "stdout",
     "output_type": "stream",
     "text": [
      "[1.25510974]\n",
      "O RMSE do modelo linear foi de 1.0238865067545295 gols.\n"
     ]
    }
   ],
   "source": [
    "from sklearn.preprocessing import MinMaxScaler\n",
    "\n",
    "# Usa um função normalizadora sobre os dados\n",
    "\n",
    "normalizador_x = MinMaxScaler()\n",
    "normalizador_y = MinMaxScaler()\n",
    "\n",
    "normalizador_x.fit(X_treino)\n",
    "normalizador_y.fit(y_treino)\n",
    "\n",
    "# Cria um modelo linear\n",
    "modelo_linear_norm = LinearRegression()\n",
    "\n",
    "# Treina esse modelo\n",
    "modelo_linear_norm.fit(\n",
    "    normalizador_x.transform(X_treino),\n",
    "    normalizador_y.transform(y_treino),\n",
    ")\n",
    "\n",
    "# Realiza uma previsão usando o modelo linear normalizado treinado\n",
    "previsao = modelo_linear_norm.predict(normalizador_x.transform(X_treino))\n",
    "previsao = normalizador_y.inverse_transform(previsao)\n",
    "print(previsao[0])\n",
    "\n",
    "# Verificando o erro do modelo usando o RMSE (root mean squared error)\n",
    "\n",
    "y_verdadeiro = y_teste\n",
    "y_previsao = modelo_linear_norm.predict(normalizador_x.transform(X_teste))\n",
    "y_previsao = normalizador_y.inverse_transform(y_previsao)\n",
    "\n",
    "RMSE = mean_squared_error(y_verdadeiro, y_previsao, squared=False)\n",
    "\n",
    "print(f\"O RMSE do modelo linear foi de {RMSE} gols.\")"
   ]
  }
 ],
 "metadata": {
  "kernelspec": {
   "display_name": "ilumpy",
   "language": "python",
   "name": "ilumpy"
  },
  "language_info": {
   "codemirror_mode": {
    "name": "ipython",
    "version": 3
   },
   "file_extension": ".py",
   "mimetype": "text/x-python",
   "name": "python",
   "nbconvert_exporter": "python",
   "pygments_lexer": "ipython3",
   "version": "3.9.7"
  }
 },
 "nbformat": 4,
 "nbformat_minor": 5
}
