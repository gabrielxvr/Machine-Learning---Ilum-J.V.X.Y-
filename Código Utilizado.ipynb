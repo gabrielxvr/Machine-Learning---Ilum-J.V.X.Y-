{
 "cells": [
  {
   "cell_type": "markdown",
   "id": "5d49d65b",
   "metadata": {},
   "source": [
    "## Bloco 1- Organizando e Reformulando o Dataset"
   ]
  },
  {
   "cell_type": "code",
   "execution_count": null,
   "id": "5b11dba8-73bc-4de7-aebe-5f8e693946d2",
   "metadata": {},
   "outputs": [
    {
     "name": "stderr",
     "output_type": "stream",
     "text": [
      "c:\\venv\\ilumpy\\lib\\site-packages\\openpyxl\\worksheet\\header_footer.py:48: UserWarning: Cannot parse header or footer so it will be ignored\n",
      "  warn(\"\"\"Cannot parse header or footer so it will be ignored\"\"\")\n"
     ]
    }
   ],
   "source": [
    "import pandas as pd\n",
    "\n",
    "# Código para ler o arquivo em xls e retorná-lo em dataframe\n",
    "dfbr = pd.read_excel(\"dados brasileirao.xlsx\") \n",
    "\n",
    "# Nesta linha, foram retiradas todas as colunas que possuiam dados relativos à estáticas após o começo do jogo. Os Dados após o jogo começar não nos ajudam a prever os nossos resultados, pois são muito específicos de cada jogo. Então vamos analisar o principal: número de gols\n",
    "dfbr = dfbr.drop([\"escanteios_man\", \"escanteios_vis\", \"publico_max\", \"faltas_man\", \"faltas_vis\", \"chutes_bola_parada_man\", \"chutes_bola_parada_vis\", \"defesas_man\", \"defesas_vis\", \"impedimentos_man\", \"impedimentos_vis\", \"chutes_man\", \"chutes_vis\", \"chutes_fora_man\", \"chutes_fora_vis\", \"gols_1_tempo_man\", \"gols_1_tempo_vis\"], axis=1)\n",
    "\n",
    "# Nesta linha, foram tiradas todas as linhas que possuiam dados faltantes, visto que os anos iniciais não tinham todos os dados da tabela preenchidos.\n",
    "dfbr = dfbr.dropna(axis = 0)\n",
    "\n",
    "# Nesta linha, são redefinidos os índices para facilitar o trabalho com os dados e foi feito após retirar os dados que não íamos precisar.\n",
    "dfbr = dfbr.reset_index()\n",
    "\n",
    "# Nesta parte, foram retiradas as colunas \"index\" e \"Unnamed: 0\" para facilitar o trabalho com os dados (Eram colunas com repetição de índices antigos)\n",
    "dfbr = dfbr.drop(columns=[\"index\", \"Unnamed: 0\"])"
   ]
  },
  {
   "cell_type": "markdown",
   "id": "68d693a1",
   "metadata": {},
   "source": [
    "### Dividindo o Dataset para visualizar relações iniciais"
   ]
  },
  {
   "cell_type": "code",
   "execution_count": null,
   "id": "aaf08569-596a-4a08-8961-d76947848817",
   "metadata": {},
   "outputs": [],
   "source": [
    "# O código a seguir cria um dataframe contendo as faixas de público e as respectivas médias de gols associadas a elas\n",
    "pub_max = dfbr[\"publico\"].max()\n",
    "pub_max_norm = pub_max/25\n",
    "publico_gols = [\"publico\", \"gols_man\", \"gols_vis\"]\n",
    "dfbr_publico_gols = dfbr[publico_gols]\n",
    "lista_medias_publico = []\n",
    "lista_medias_gols_publico = []\n",
    "\n",
    "for i in range(25):\n",
    "    n_menor = i*pub_max_norm\n",
    "    n_maior = (i+1)*pub_max_norm\n",
    "    dfbr_publico_gols_sep = dfbr_publico_gols.loc[(dfbr_publico_gols[\"publico\"] >= n_menor) & (dfbr_publico_gols[\"publico\"] < n_maior)]\n",
    "    media_gols_publico_sep = dfbr_publico_gols_sep[\"gols_man\"].mean()\n",
    "    media_publico = (n_menor + n_maior)/2\n",
    "    lista_medias_publico.append(media_publico)\n",
    "    lista_medias_gols_publico.append(media_gols_publico_sep)\n",
    "\n",
    "dic_publico_gols = {\n",
    "    \"publico_medio\": lista_medias_publico,\n",
    "    \"gols_man\": lista_medias_gols_publico,\n",
    "}\n",
    "\n",
    "dfpg = pd.DataFrame.from_dict(dic_publico_gols)"
   ]
  },
  {
   "cell_type": "code",
   "execution_count": null,
   "id": "df94a460-7581-4414-afa7-d2976896e5da",
   "metadata": {},
   "outputs": [],
   "source": [
    "# O código a seguir cria um dataframe contendo as faixas de valor do clube mandante e as respectivas médias de gols do mandante associadas a elas\n",
    "valor_max = dfbr[\"valor_equipe_titular_man\"].max()\n",
    "valor_max_norm = valor_max/10\n",
    "valor_gols = [\"valor_equipe_titular_man\", \"gols_man\", \"gols_vis\"]\n",
    "dfbr_valor_gols = dfbr[valor_gols]\n",
    "lista_medias_valor = []\n",
    "lista_medias_gols_valor = []\n",
    "\n",
    "for i in range(10):\n",
    "    n_menor = i*valor_max_norm\n",
    "    n_maior = (i+1)*valor_max_norm\n",
    "    dfbr_valor_gols_sep = dfbr_valor_gols.loc[(dfbr_valor_gols[\"valor_equipe_titular_man\"] >= n_menor) & (dfbr_valor_gols[\"valor_equipe_titular_man\"] < n_maior)]\n",
    "    media_gols_valor_sep = dfbr_valor_gols_sep[\"gols_man\"].mean()\n",
    "    media_valor = (n_menor + n_maior)/2\n",
    "    lista_medias_valor.append(media_valor)\n",
    "    lista_medias_gols_valor.append(media_gols_valor_sep)\n",
    "    \n",
    "dic_valor_gols = {\n",
    "    \"valor_medio\": lista_medias_valor,\n",
    "    \"gols_man\": lista_medias_gols_valor,\n",
    "}\n",
    "\n",
    "dfvg = pd.DataFrame.from_dict(dic_valor_gols)"
   ]
  },
  {
   "cell_type": "code",
   "execution_count": null,
   "id": "655e9ce5-8f39-40c4-81ad-8bd4ee829384",
   "metadata": {},
   "outputs": [],
   "source": [
    "# O código a seguir cria um dataframe contendo as faixas de valor do clube mandante e as respectivas médias de gols do time visitante associadas a elas\n",
    "valor_max = dfbr[\"valor_equipe_titular_man\"].max()\n",
    "\n",
    "valor_max_norm = valor_max/10\n",
    "\n",
    "valor_gols = [\"valor_equipe_titular_man\", \"gols_man\", \"gols_vis\"]\n",
    "\n",
    "dfbr_valor_gols = dfbr[valor_gols]\n",
    "\n",
    "lista_medias_valor = []\n",
    "\n",
    "lista_medias_gols_valor_vis = []\n",
    "\n",
    "for i in range(10):\n",
    "    n_menor = i*valor_max_norm\n",
    "    n_maior = (i+1)*valor_max_norm\n",
    "    \n",
    "    dfbr_valor_gols_sep = dfbr_valor_gols.loc[(dfbr_valor_gols[\"valor_equipe_titular_man\"] >= n_menor) & (dfbr_valor_gols[\"valor_equipe_titular_man\"] < n_maior)]\n",
    "    media_gols_valor_sep = dfbr_valor_gols_sep[\"gols_vis\"].mean()\n",
    "    media_valor = (n_menor + n_maior)/2\n",
    "    lista_medias_valor.append(media_valor)\n",
    "    lista_medias_gols_valor_vis.append(media_gols_valor_sep)\n",
    "    \n",
    "dic_valor_gols_vis = {\n",
    "    \"valor_medio_man\": lista_medias_valor,\n",
    "    \"gols_vis\": lista_medias_gols_valor_vis,\n",
    "}\n",
    "\n",
    "dfvgv = pd.DataFrame.from_dict(dic_valor_gols_vis)"
   ]
  },
  {
   "cell_type": "code",
   "execution_count": null,
   "id": "81f38e23-ea01-40c2-be16-3e35221effbd",
   "metadata": {},
   "outputs": [],
   "source": [
    "# O código a seguir cria um dataframe contendo as colocações do clube mandante e as respectivas médias de gols do time mandante associadas a elas\n",
    "colocacao_gols = [\"colocacao_man\", \"gols_man\", \"gols_vis\"]\n",
    "\n",
    "dfbr_colocacao_gols = dfbr[colocacao_gols]\n",
    "\n",
    "lista_colocacao = []\n",
    "\n",
    "lista_medias_gols_colocacao = []\n",
    "\n",
    "for i in range(20, 0, -1):\n",
    "    \n",
    "    dfbr_colocacao_gols_sep = dfbr_colocacao_gols.loc[(dfbr_colocacao_gols[\"colocacao_man\"] == i)]\n",
    "    media_gols_colocacao_sep = dfbr_colocacao_gols_sep[\"gols_man\"].mean()\n",
    "    lista_colocacao.append(i)\n",
    "    lista_medias_gols_colocacao.append(media_gols_colocacao_sep)\n",
    "    \n",
    "dic_colocacao_gols = {\n",
    "    \"colocacao_man\": lista_colocacao,\n",
    "    \"gols_man\": lista_medias_gols_colocacao,\n",
    "}\n",
    "\n",
    "dfcg = pd.DataFrame.from_dict(dic_colocacao_gols)"
   ]
  },
  {
   "cell_type": "code",
   "execution_count": null,
   "id": "01eb4658-3624-4617-a1b7-156c9cd68024",
   "metadata": {},
   "outputs": [],
   "source": [
    "# O código a seguir cria um dataframe contendo as colocações do clube mandante e as respectivas médias de gols do time visitante associadas a elas\n",
    "colocacao_gols = [\"colocacao_man\", \"gols_man\", \"gols_vis\"]\n",
    "\n",
    "dfbr_colocacao_gols = dfbr[colocacao_gols]\n",
    "\n",
    "lista_colocacao = []\n",
    "\n",
    "lista_medias_gols_colocacao_vis = []\n",
    "\n",
    "for i in range(20, 0, -1):\n",
    "    \n",
    "    dfbr_colocacao_gols_sep = dfbr_colocacao_gols.loc[(dfbr_colocacao_gols[\"colocacao_man\"] == i)]\n",
    "    media_gols_colocacao_sep_vis = dfbr_colocacao_gols_sep[\"gols_vis\"].mean()\n",
    "    lista_colocacao.append(i)\n",
    "    lista_medias_gols_colocacao_vis.append(media_gols_colocacao_sep_vis)\n",
    "    \n",
    "dic_colocacao_gols_vis = {\n",
    "    \"colocacao_man\": lista_colocacao,\n",
    "    \"gols_vis\": lista_medias_gols_colocacao_vis,\n",
    "}\n",
    "\n",
    "dfcgv = pd.DataFrame.from_dict(dic_colocacao_gols_vis)"
   ]
  },
  {
   "cell_type": "code",
   "execution_count": null,
   "id": "d9420dec-4176-4b91-a4c4-c1eb3c363190",
   "metadata": {},
   "outputs": [],
   "source": [
    "import matplotlib.pyplot as plt\n",
    "import seaborn as sns"
   ]
  },
  {
   "cell_type": "code",
   "execution_count": null,
   "id": "366d4081-de5b-4eef-aadd-a0ef296fbba7",
   "metadata": {},
   "outputs": [
    {
     "data": {
      "image/png": "[encoded data removed]",
      "text/plain": [
       "<Figure size 432x288 with 1 Axes>"
      ]
     },
     "metadata": {
      "needs_background": "light"
     },
     "output_type": "display_data"
    }
   ],
   "source": [
    "# Nesta linha, são plotados os gráficos de média de gols em cada faixa de público\n",
    "\n",
    "fig = plt.figure()\n",
    "ax1 = fig.add_subplot(111)\n",
    "dfpg.plot('publico_medio','gols_man',legend=True, ax=ax1, kind = 'scatter', color = 'red')\n",
    "plt.title('Gols e Público Médio')\n",
    "plt.xlabel('Público Médio')\n",
    "plt.ylabel('Gols da Equipe Mandante')\n",
    "#plt.savefig('Gols e Público.png', dpi=100, format='png', facecolor='white')\n",
    "plt.show()"
   ]
  },
  {
   "cell_type": "code",
   "execution_count": null,
   "id": "9a6f7552-6789-44d3-b2a7-85f58f394d72",
   "metadata": {},
   "outputs": [
    {
     "data": {
      "image/png": "[encoded data removed]",
      "text/plain": [
       "<Figure size 432x288 with 1 Axes>"
      ]
     },
     "metadata": {
      "needs_background": "light"
     },
     "output_type": "display_data"
    }
   ],
   "source": [
    "# Nesta linha, são plotados os gráficos de média de gols do mandante em cada faixa de valor do mandante\n",
    "\n",
    "fig1 = plt.figure()\n",
    "ax2 = fig1.add_subplot(111)\n",
    "dfvg.plot('valor_medio','gols_man',legend=True, ax=ax2, kind = 'scatter', color = 'blue')\n",
    "plt.title('Gols e Valor do Elenco')\n",
    "plt.xlabel('Valor Médio do Elenco Mandante')\n",
    "plt.ylabel('Gols da Equipe Mandante')\n",
    "#plt.savefig('Gols e Valor do Elenco.png', dpi=100, format='png', facecolor='white')\n",
    "plt.show()"
   ]
  },
  {
   "cell_type": "code",
   "execution_count": null,
   "id": "2847dea8-1f63-4917-af79-91b2b999aaf8",
   "metadata": {},
   "outputs": [
    {
     "data": {
      "image/png": "[encoded data removed]",
      "text/plain": [
       "<Figure size 432x288 with 1 Axes>"
      ]
     },
     "metadata": {
      "needs_background": "light"
     },
     "output_type": "display_data"
    }
   ],
   "source": [
    "# Nesta linha, são plotados os gráficos de média de gols do visitante em cada faixa de valor do mandante\n",
    "\n",
    "fig2 = plt.figure()\n",
    "ax3 = fig2.add_subplot(111)\n",
    "dfvgv.plot('valor_medio_man','gols_vis',legend=True, ax=ax3, kind = 'scatter', color = 'purple')\n",
    "plt.title('Gols do Visitante e Valor Médio do Elenco Mandante')\n",
    "plt.xlabel('Valor Médio do Elenco Mandante')\n",
    "plt.ylabel('Gols da Equipe Visitante')\n",
    "#plt.savefig('Gols do Visitante e Valor do Elenco Mandante.png', dpi=100, format='png', facecolor='white')\n",
    "plt.show()"
   ]
  },
  {
   "cell_type": "code",
   "execution_count": null,
   "id": "4fcfc7b7-73d6-4b8f-9dd3-3271ebe425cb",
   "metadata": {},
   "outputs": [
    {
     "data": {
      "image/png": "[encoded data removed]",
      "text/plain": [
       "<Figure size 432x288 with 1 Axes>"
      ]
     },
     "metadata": {
      "needs_background": "light"
     },
     "output_type": "display_data"
    }
   ],
   "source": [
    "# Nesta linha, são plotados os gráficos de média de gols do mandante em cada colocação do mandante\n",
    "\n",
    "fig3 = plt.figure()\n",
    "ax4 = fig3.add_subplot(111)\n",
    "dfcg.plot('colocacao_man','gols_man',legend=True, ax=ax4, kind = 'scatter', color = 'orange')\n",
    "plt.title('Gols e Colocação do Mandante')\n",
    "plt.xlabel('Colocação do Mandante')\n",
    "plt.ylabel('Gols da Equipe Mandante')\n",
    "#plt.savefig('Gols e Colocação do Mandante.png', dpi=100, format='png', facecolor='white')\n",
    "plt.show()"
   ]
  },
  {
   "cell_type": "code",
   "execution_count": null,
   "id": "db7e20f4-cc6c-4fd6-a5f8-43b1c2dc1a28",
   "metadata": {},
   "outputs": [
    {
     "data": {
      "image/png": "[encoded data removed]",
      "text/plain": [
       "<Figure size 432x288 with 1 Axes>"
      ]
     },
     "metadata": {
      "needs_background": "light"
     },
     "output_type": "display_data"
    }
   ],
   "source": [
    "# Nesta linha, são plotados os gráficos de média de gols do visitante em cada colocação do mandante\n",
    "\n",
    "fig4 = plt.figure()\n",
    "ax5 = fig4.add_subplot(111)\n",
    "dfcgv.plot('colocacao_man','gols_vis',legend=True, ax=ax5, kind = 'scatter', color = 'pink')\n",
    "plt.title('Gols do Visitante e Colocação do Mandante')\n",
    "plt.xlabel('Colocação do Mandante')\n",
    "plt.ylabel('Gols da Equipe Visitante')\n",
    "#plt.savefig('Gols do Visitante e Colocação do Mandante.png', dpi=100, format='png', facecolor='white')\n",
    "plt.show()"
   ]
  },
  {
   "cell_type": "code",
   "execution_count": null,
   "id": "545f139d-f50d-4eb1-bf7d-2ef212d463d1",
   "metadata": {},
   "outputs": [
    {
     "data": {
      "image/png": "[encoded data removed]",
      "text/plain": [
       "<Figure size 432x288 with 1 Axes>"
      ]
     },
     "metadata": {
      "needs_background": "light"
     },
     "output_type": "display_data"
    }
   ],
   "source": [
    "# Nesta linha, foi plotado um histograma da quantidade de público nos jogos\n",
    "\n",
    "fig5 = plt.figure()\n",
    "ax6 = fig5.add_subplot(111)\n",
    "dfbr['publico'].plot(legend=True, ax=ax6, kind = 'hist', color = 'red')\n",
    "plt.title('Frequência de Público')\n",
    "plt.xlabel('Público')\n",
    "plt.ylabel('Frequência')\n",
    "#plt.savefig('Frequência de Público.png', dpi=100, format='png', facecolor='white')\n",
    "plt.show()"
   ]
  },
  {
   "cell_type": "code",
   "execution_count": null,
   "id": "1dac02cb-8af9-4b37-aba5-0647cdbdbbc2",
   "metadata": {},
   "outputs": [
    {
     "data": {
      "image/png": "[encoded data removed]",
      "text/plain": [
       "<Figure size 432x288 with 1 Axes>"
      ]
     },
     "metadata": {
      "needs_background": "light"
     },
     "output_type": "display_data"
    }
   ],
   "source": [
    "# Nesta linha, foi plotado um histograma do valor da equipe titular do mandante\n",
    "\n",
    "fig6 = plt.figure()\n",
    "ax7 = fig6.add_subplot(111)\n",
    "dfbr[\"valor_equipe_titular_man\"].plot(legend=True, ax=ax7, kind = 'hist', color = 'blue')\n",
    "plt.title('Valor da Equipe Mandante')\n",
    "plt.xlabel('Valor da Equipe Mandante')\n",
    "plt.ylabel('Frequência')\n",
    "#plt.savefig('Frequência de Valor da Equipe Mandante.png', dpi=100, format='png', facecolor='white')\n",
    "plt.show()"
   ]
  },
  {
   "cell_type": "code",
   "execution_count": null,
   "id": "02afe7d4-25ae-4185-b3af-0f228f1bfebd",
   "metadata": {},
   "outputs": [
    {
     "data": {
      "image/png": "[encoded data removed]",
      "text/plain": [
       "<Figure size 432x288 with 1 Axes>"
      ]
     },
     "metadata": {
      "needs_background": "light"
     },
     "output_type": "display_data"
    }
   ],
   "source": [
    "# Nesta linha, foi plotado um histograma da colocação da equipe mandante.\n",
    "\n",
    "fig7 = plt.figure()\n",
    "ax8 = fig7.add_subplot(111)\n",
    "dfbr[\"colocacao_man\"].plot(legend=True, ax=ax8, kind = 'hist', color = 'yellow')\n",
    "plt.title('Colocação da Equipe Mandante')\n",
    "plt.xlabel('Colocação da Equipe Mandante')\n",
    "plt.ylabel('Frequência')\n",
    "#plt.savefig('Frequência da Colocação.png', dpi=100, format='png', facecolor='white')\n",
    "plt.show()"
   ]
  },
  {
   "cell_type": "markdown",
   "id": "80285820",
   "metadata": {},
   "source": [
    "## Bloco 2- Métodos de Modelagem dos Dados"
   ]
  },
  {
   "cell_type": "markdown",
   "id": "0d893995",
   "metadata": {},
   "source": [
    "### Divisão do dataset"
   ]
  },
  {
   "cell_type": "code",
   "execution_count": null,
   "id": "a55bbf93-5087-4285-b81e-f7422092af0f",
   "metadata": {},
   "outputs": [],
   "source": [
    "# Divisão dos dados do dataset em treino e teste\n",
    "\n",
    "from sklearn.model_selection import train_test_split # Divisão feita usando a função train_test_split\n",
    "\n",
    "TAMANHO_TESTE = 0.1 # Porcentagem destinada do dataset ao grupo de teste\n",
    "SEMENTE_ALEATORIA = 122106 # Definição de uma seed para evitar mudança desses grupos\n",
    "\n",
    "# Escolha dos índices e seleção feita pela função\n",
    "indices = dfbr.index\n",
    "indices_treino, indices_teste = train_test_split(\n",
    "    indices, test_size=TAMANHO_TESTE, random_state=SEMENTE_ALEATORIA\n",
    ")\n",
    "\n",
    "# Atribuição dos índices escolhidos aos dados\n",
    "dfbr_treino = dfbr.loc[indices_treino].sort_index()\n",
    "dfbr_teste = dfbr.loc[indices_teste].sort_index()\n",
    "\n",
    "# Aqui são escolhidos os atributos do dataset e é definido o target \n",
    "\n",
    "FEATURES = [\"valor_equipe_titular_man\",\"publico\",\"idade_media_titular_man\",\"colocacao_man\",\"valor_equipe_titular_vis\",\"idade_media_titular_vis\",\"gols_vis\",\"colocacao_vis\",\"ano_campeonato\"]\n",
    "TARGET = [\"gols_man\"]\n",
    "\n",
    "# Divide os dados para se adequarem aos modelos\n",
    "\n",
    "X_treino = dfbr_treino.reindex(FEATURES, axis=1).values\n",
    "y_treino = dfbr_treino.reindex(TARGET, axis=1).values\n",
    "X_teste = dfbr_teste.reindex(FEATURES, axis=1).values\n",
    "y_teste = dfbr_teste.reindex(TARGET, axis=1).values"
   ]
  },
  {
   "cell_type": "markdown",
   "id": "96238b48",
   "metadata": {},
   "source": [
    "### Modelo Baseline"
   ]
  },
  {
   "cell_type": "code",
   "execution_count": null,
   "id": "20ee9e88-cf73-4ab6-8855-ea2902c20f7f",
   "metadata": {},
   "outputs": [
    {
     "name": "stdout",
     "output_type": "stream",
     "text": [
      "O time mandante faria 1.5049683830171634 gols\n",
      "O RMSE do modelo baseline foi de 1.1665724061927247 gols.\n"
     ]
    }
   ],
   "source": [
    "from sklearn.dummy import DummyRegressor\n",
    "from sklearn.metrics import mean_squared_error\n",
    "\n",
    "# Cria um modelo baseline para termos uma base de comparação com outros modelos\n",
    "modelo_baseline = DummyRegressor()\n",
    "\n",
    "# Treina o modelo de acordo com os dados escolhidos antes\n",
    "modelo_baseline.fit(X_treino, y_treino)\n",
    "\n",
    "# Realiza uma previsão usando o modelo treinado\n",
    "previsao_baseline = modelo_baseline.predict(X_teste)\n",
    "print(f\"O time mandante faria {previsao_baseline[0]} gols\")\n",
    "\n",
    "# Verificando o erro do modelo usando o RMSE (root mean squared error)\n",
    "y_verdadeiro = y_teste\n",
    "y_previsao_baseline = modelo_baseline.predict(X_teste)\n",
    "\n",
    "RMSE = mean_squared_error(y_verdadeiro, y_previsao_baseline, squared=False)\n",
    "\n",
    "print(f\"O RMSE do modelo baseline foi de {RMSE} gols.\")"
   ]
  },
  {
   "cell_type": "markdown",
   "id": "9e02b271",
   "metadata": {},
   "source": [
    "### Regressão Linear"
   ]
  },
  {
   "cell_type": "code",
   "execution_count": null,
   "id": "de5cfb93-5f21-46eb-9322-639730a8364f",
   "metadata": {},
   "outputs": [
    {
     "name": "stdout",
     "output_type": "stream",
     "text": [
      "[1.54035654]\n",
      "O RMSE do modelo linear foi de 1.1010162933686618 gols.\n"
     ]
    }
   ],
   "source": [
    "from sklearn.linear_model import LinearRegression\n",
    "\n",
    "# Cria um modelo linear\n",
    "modelo_linear = LinearRegression()\n",
    "\n",
    "# Treina esse modelo \n",
    "modelo_linear.fit(X_treino, y_treino)\n",
    "\n",
    "# Realiza uma previsão usando o modelo treinado\n",
    "previsao_linear = modelo_linear.predict(X_teste)\n",
    "print(previsao_linear[0]) # Foi escolhida apenas uma linha para melhorar a visualização\n",
    "\n",
    "# Verificando o erro do modelo usando o RMSE (root mean squared error)\n",
    "\n",
    "y_verdadeiro = y_teste\n",
    "y_previsao_linear = modelo_linear.predict(X_teste)\n",
    "\n",
    "RMSE = mean_squared_error(y_verdadeiro, y_previsao_linear, squared=False)\n",
    "\n",
    "print(f\"O RMSE do modelo linear foi de {RMSE} gols.\")"
   ]
  },
  {
   "cell_type": "markdown",
   "id": "25fa20ca",
   "metadata": {},
   "source": [
    "### Regressão Linear Normalizada"
   ]
  },
  {
   "cell_type": "code",
   "execution_count": null,
   "id": "ea3efd63-a419-44bc-adb6-34fef95a39fc",
   "metadata": {},
   "outputs": [
    {
     "name": "stdout",
     "output_type": "stream",
     "text": [
      "[[1.82152712]\n",
      " [1.71269558]\n",
      " [1.80884794]\n",
      " ...\n",
      " [1.15358695]\n",
      " [1.54537951]\n",
      " [1.55884239]]\n",
      "O RMSE do modelo linear foi de 1.1010162933686638 gols.\n"
     ]
    }
   ],
   "source": [
    "from sklearn.preprocessing import MinMaxScaler\n",
    "\n",
    "# Usa um função normalizadora sobre os dados\n",
    "\n",
    "normalizador_x = MinMaxScaler()\n",
    "normalizador_y = MinMaxScaler()\n",
    "\n",
    "normalizador_x.fit(X_treino)\n",
    "normalizador_y.fit(y_treino)\n",
    "\n",
    "# Cria um modelo linear\n",
    "modelo_linear_norm = LinearRegression()\n",
    "\n",
    "# Treina esse modelo\n",
    "modelo_linear_norm.fit(\n",
    "    normalizador_x.transform(X_treino),\n",
    "    normalizador_y.transform(y_treino),\n",
    ")\n",
    "\n",
    "# Realiza uma previsão usando o modelo linear normalizado treinado\n",
    "previsao = modelo_linear_norm.predict(normalizador_x.transform(X_treino))\n",
    "previsao = normalizador_y.inverse_transform(previsao)\n",
    "print(previsao)\n",
    "\n",
    "# Verificando o erro do modelo usando o RMSE (root mean squared error)\n",
    "\n",
    "y_verdadeiro = y_teste\n",
    "y_previsao = modelo_linear_norm.predict(normalizador_x.transform(X_teste))\n",
    "y_previsao = normalizador_y.inverse_transform(y_previsao)\n",
    "\n",
    "RMSE = mean_squared_error(y_verdadeiro, y_previsao, squared=False)\n",
    "\n",
    "print(f\"O RMSE do modelo linear foi de {RMSE} gols.\")\n"
   ]
  },
  {
   "cell_type": "markdown",
   "id": "37bb3b74",
   "metadata": {},
   "source": [
    "### k-NN / k vizinhos"
   ]
  },
  {
   "cell_type": "code",
   "execution_count": null,
   "id": "a3893f00-f2a4-4d95-b79c-283176adf6a6",
   "metadata": {
    "tags": []
   },
   "outputs": [
    {
     "name": "stdout",
     "output_type": "stream",
     "text": [
      "[1.2]\n"
     ]
    }
   ],
   "source": [
    "from sklearn.neighbors import KNeighborsRegressor\n",
    "\n",
    "# cria o modelo\n",
    "modelo_knn = KNeighborsRegressor()\n",
    "\n",
    "# treina o modelo\n",
    "modelo_knn.fit(X_treino, y_treino)\n",
    "\n",
    "# realiza uma previsão usando o modelo treinado\n",
    "previsao = modelo_knn.predict(X_teste)\n",
    "print(previsao[0])"
   ]
  },
  {
   "cell_type": "code",
   "execution_count": null,
   "id": "33187169-7d6f-4267-8c86-9a83d8c91e02",
   "metadata": {},
   "outputs": [
    {
     "name": "stdout",
     "output_type": "stream",
     "text": [
      "O RMSE do modelo k-NN foi de 1.1231268832786456 gols.\n"
     ]
    }
   ],
   "source": [
    "from sklearn.metrics import mean_squared_error\n",
    "\n",
    "y_verdadeiro = y_teste\n",
    "y_previsao = modelo_knn.predict(X_teste)\n",
    "\n",
    "RMSE = mean_squared_error(y_verdadeiro, y_previsao, squared=False)\n",
    "\n",
    "print(f\"O RMSE do modelo k-NN foi de {RMSE} gols.\")"
   ]
  },
  {
   "cell_type": "code",
   "execution_count": null,
   "id": "cbc06af5-e27a-4d32-a6be-54785ab7dac1",
   "metadata": {},
   "outputs": [
    {
     "name": "stdout",
     "output_type": "stream",
     "text": [
      "O RMSE do modelo k-NN usando k=1 foi de 1.5821006909640374 gols.\n",
      "O RMSE do modelo k-NN usando k=10 foi de 1.1816806541350324 gols.\n",
      "O RMSE do modelo k-NN usando k=100 foi de 1.1231268832786456 gols.\n"
     ]
    }
   ],
   "source": [
    "NUM_VIZINHOS = [1, 10, 100]\n",
    "\n",
    "for n in NUM_VIZINHOS:\n",
    "    modelo_knn = KNeighborsRegressor(n_neighbors=n)\n",
    "\n",
    "    modelo_knn.fit(X_treino, y_treino)\n",
    "\n",
    "    y_verdadeiro = y_teste\n",
    "    y_previsao = modelo_knn.predict(X_teste)\n",
    "    RMSE = mean_squared_error(y_verdadeiro, y_previsao, squared=False)\n",
    "    print(f\"O RMSE do modelo k-NN usando k={n} foi de {RMSE} gols.\")"
   ]
  },
  {
   "cell_type": "markdown",
   "id": "d760189e",
   "metadata": {},
   "source": [
    "### Árvore de Decisão"
   ]
  },
  {
   "cell_type": "code",
   "execution_count": null,
   "id": "543d6109-b805-4aff-b7ad-575f5ea65264",
   "metadata": {},
   "outputs": [
    {
     "name": "stdout",
     "output_type": "stream",
     "text": [
      "1.0\n",
      "O RMSE do modelo árvore de decisão foi de 1.6809395614746618 gols.\n"
     ]
    }
   ],
   "source": [
    "# Árvore de Decisão\n",
    "\n",
    "from sklearn.tree import DecisionTreeRegressor\n",
    "\n",
    "# cria o modelo\n",
    "modelo_dt = DecisionTreeRegressor(random_state=SEMENTE_ALEATORIA)\n",
    "\n",
    "# treina o modelo\n",
    "modelo_dt.fit(X_treino, y_treino)\n",
    "\n",
    "# realiza uma previsão usando o modelo treinado\n",
    "previsao = modelo_dt.predict(X_teste)\n",
    "print(previsao[1]) # Escolhido apenas um elemento para facilitar a visualização\n",
    "\n",
    "y_verdadeiro = y_teste\n",
    "y_previsao = modelo_dt.predict(X_teste)\n",
    "\n",
    "RMSE = mean_squared_error(y_verdadeiro, y_previsao, squared=False)\n",
    "\n",
    "print(f\"O RMSE do modelo árvore de decisão foi de {RMSE} gols.\")"
   ]
  },
  {
   "cell_type": "code",
   "execution_count": null,
   "id": "d049267a-52d8-4797-80d6-3b08a0657534",
   "metadata": {},
   "outputs": [
    {
     "name": "stdout",
     "output_type": "stream",
     "text": [
      "O RMSE do modelo AD usando max_leaf_nodes=None e max_depth=None foi de 1.681 gols.\n",
      "O RMSE do modelo AD usando max_leaf_nodes=None e max_depth=1 foi de 1.140 gols.\n",
      "O RMSE do modelo AD usando max_leaf_nodes=None e max_depth=2 foi de 1.125 gols.\n",
      "O RMSE do modelo AD usando max_leaf_nodes=None e max_depth=3 foi de 1.130 gols.\n",
      "O RMSE do modelo AD usando max_leaf_nodes=None e max_depth=10 foi de 1.333 gols.\n",
      "O RMSE do modelo AD usando max_leaf_nodes=6 e max_depth=None foi de 1.121 gols.\n",
      "O RMSE do modelo AD usando max_leaf_nodes=6 e max_depth=1 foi de 1.140 gols.\n",
      "O RMSE do modelo AD usando max_leaf_nodes=6 e max_depth=2 foi de 1.125 gols.\n",
      "O RMSE do modelo AD usando max_leaf_nodes=6 e max_depth=3 foi de 1.121 gols.\n",
      "O RMSE do modelo AD usando max_leaf_nodes=6 e max_depth=10 foi de 1.121 gols.\n",
      "O RMSE do modelo AD usando max_leaf_nodes=36 e max_depth=None foi de 1.166 gols.\n",
      "O RMSE do modelo AD usando max_leaf_nodes=36 e max_depth=1 foi de 1.140 gols.\n",
      "O RMSE do modelo AD usando max_leaf_nodes=36 e max_depth=2 foi de 1.125 gols.\n",
      "O RMSE do modelo AD usando max_leaf_nodes=36 e max_depth=3 foi de 1.130 gols.\n",
      "O RMSE do modelo AD usando max_leaf_nodes=36 e max_depth=10 foi de 1.166 gols.\n"
     ]
    }
   ],
   "source": [
    "# Árvore de decisões com hiperparâmetros\n",
    "\n",
    "from itertools import product\n",
    "\n",
    "NUM_FOLHAS = [None, 6, 36]\n",
    "NUM_PROFUNDIDADE = [None, 1, 2, 3, 10]\n",
    "\n",
    "for n_folhas, n_profundidade in product(NUM_FOLHAS, NUM_PROFUNDIDADE):\n",
    "    modelo_dt = DecisionTreeRegressor(\n",
    "        max_leaf_nodes=n_folhas,\n",
    "        max_depth=n_profundidade,\n",
    "        random_state=SEMENTE_ALEATORIA,\n",
    "    )\n",
    "\n",
    "    modelo_dt.fit(X_treino, y_treino)\n",
    "\n",
    "    y_verdadeiro = y_teste\n",
    "    y_previsao = modelo_dt.predict(X_teste)\n",
    "    RMSE = mean_squared_error(y_verdadeiro, y_previsao, squared=False)\n",
    "\n",
    "    print(\n",
    "        f\"O RMSE do modelo AD usando max_leaf_nodes={n_folhas} \"\n",
    "        f\"e max_depth={n_profundidade} foi de {RMSE:.3f} gols.\"\n",
    "    )"
   ]
  },
  {
   "cell_type": "code",
   "execution_count": null,
   "id": "94889af9-9582-49f0-b220-65efddab3962",
   "metadata": {},
   "outputs": [
    {
     "data": {
      "image/png": "[encoded data removed]",
      "text/plain": [
       "<Figure size 1050x600 with 1 Axes>"
      ]
     },
     "metadata": {
      "needs_background": "light"
     },
     "output_type": "display_data"
    }
   ],
   "source": [
    "# Visualização da Árvore de Decisão\n",
    "\n",
    "from matplotlib import pyplot as plt\n",
    "from sklearn import tree\n",
    "\n",
    "# Cria e treina o modelo\n",
    "modelo_dt = DecisionTreeRegressor(\n",
    "    max_leaf_nodes=6,\n",
    "    random_state=SEMENTE_ALEATORIA,\n",
    ")\n",
    "modelo_dt.fit(X_treino, y_treino)\n",
    "\n",
    "# Cria os objetos de figura e eixo\n",
    "fig, axe = plt.subplots(\n",
    "    ncols=1,\n",
    "    nrows=1,\n",
    "    figsize=(7, 4),\n",
    "    dpi=150,\n",
    ")\n",
    "\n",
    "# Plota o grafo da árvore de decisão\n",
    "tree.plot_tree(\n",
    "    modelo_dt,\n",
    "    feature_names=FEATURES,\n",
    "    ax=axe,\n",
    "    impurity=False,\n",
    "    filled=True,\n",
    "    proportion=True,\n",
    "    precision=2,\n",
    ")\n",
    "\n",
    "# Salva a imagem\n",
    "#plt.savefig('ÁrvoreDoFut.png',facecolor='white')\n",
    "\n",
    "# Mostra o plot para o usuário\n",
    "plt.show()"
   ]
  },
  {
   "cell_type": "markdown",
   "id": "763024f9",
   "metadata": {},
   "source": [
    "### Floresta Aleatória"
   ]
  },
  {
   "cell_type": "code",
   "execution_count": null,
   "id": "1b271815-61a6-4876-b115-bf3dbc0080a0",
   "metadata": {},
   "outputs": [
    {
     "name": "stdout",
     "output_type": "stream",
     "text": [
      "(4428, 1) (493, 1)\n",
      "(4428,) (493,)\n",
      "\n",
      "1.83\n",
      "O RMSE do modelo floresta de decisão foi de 1.1285866872998755 gols.\n"
     ]
    }
   ],
   "source": [
    "# Floresta Aleatória\n",
    "\n",
    "from sklearn.ensemble import RandomForestRegressor\n",
    "\n",
    "# alterando o formato do target\n",
    "print(y_treino.shape, y_teste.shape)\n",
    "y_treino = y_treino.ravel()\n",
    "y_teste = y_teste.ravel()\n",
    "print(y_treino.shape, y_teste.shape)\n",
    "\n",
    "# cria o modelo\n",
    "modelo_rf = RandomForestRegressor(random_state=SEMENTE_ALEATORIA)\n",
    "\n",
    "# treina o modelo\n",
    "modelo_rf.fit(X_treino, y_treino)\n",
    "\n",
    "# realiza uma previsão usando o modelo treinado\n",
    "previsao = modelo_rf.predict(X_teste)\n",
    "print()\n",
    "print(previsao[0]) # Escolhido um elemento para facilitar a visualização\n",
    "\n",
    "y_verdadeiro = y_teste\n",
    "y_previsao = modelo_rf.predict(X_teste)\n",
    "\n",
    "RMSE = mean_squared_error(y_verdadeiro, y_previsao, squared=False)\n",
    "\n",
    "print(f\"O RMSE do modelo floresta de decisão foi de {RMSE} gols.\")"
   ]
  },
  {
   "cell_type": "code",
   "execution_count": null,
   "id": "dd99c8b9-2af5-44a5-8d77-58d71bb5967e",
   "metadata": {},
   "outputs": [
    {
     "name": "stdout",
     "output_type": "stream",
     "text": [
      "O RMSE do modelo RF usando n_estimators=10 max_leaf_nodes=None e max_depth=None foi de 1.17 gols.\n",
      "O RMSE do modelo RF usando n_estimators=100 max_leaf_nodes=None e max_depth=None foi de 1.13 gols.\n",
      "O RMSE do modelo RF usando n_estimators=300 max_leaf_nodes=None e max_depth=None foi de 1.12 gols.\n",
      "O RMSE do modelo RF usando n_estimators=10 max_leaf_nodes=None e max_depth=3 foi de 1.11 gols.\n",
      "O RMSE do modelo RF usando n_estimators=100 max_leaf_nodes=None e max_depth=3 foi de 1.11 gols.\n",
      "O RMSE do modelo RF usando n_estimators=300 max_leaf_nodes=None e max_depth=3 foi de 1.11 gols.\n",
      "O RMSE do modelo RF usando n_estimators=10 max_leaf_nodes=6 e max_depth=None foi de 1.12 gols.\n",
      "O RMSE do modelo RF usando n_estimators=100 max_leaf_nodes=6 e max_depth=None foi de 1.12 gols.\n",
      "O RMSE do modelo RF usando n_estimators=300 max_leaf_nodes=6 e max_depth=None foi de 1.12 gols.\n",
      "O RMSE do modelo RF usando n_estimators=10 max_leaf_nodes=6 e max_depth=3 foi de 1.11 gols.\n",
      "O RMSE do modelo RF usando n_estimators=100 max_leaf_nodes=6 e max_depth=3 foi de 1.12 gols.\n",
      "O RMSE do modelo RF usando n_estimators=300 max_leaf_nodes=6 e max_depth=3 foi de 1.12 gols.\n"
     ]
    }
   ],
   "source": [
    "# Floresta Aleatória com Hiperparâmetros\n",
    "\n",
    "from itertools import product\n",
    "\n",
    "NUM_ARVORES = [10, 100, 300]\n",
    "NUM_FOLHAS = [None, 6]\n",
    "NUM_PROFUNDIDADE = [None, 3]\n",
    "\n",
    "for n_folhas, n_profundidade, n_arvores in product(\n",
    "    NUM_FOLHAS, NUM_PROFUNDIDADE, NUM_ARVORES\n",
    "):\n",
    "    modelo_rf = RandomForestRegressor(\n",
    "        n_estimators=n_arvores,\n",
    "        max_leaf_nodes=n_folhas,\n",
    "        max_depth=n_profundidade,\n",
    "        random_state=SEMENTE_ALEATORIA,\n",
    "        n_jobs=4,\n",
    "    )\n",
    "\n",
    "    modelo_rf.fit(X_treino, y_treino)\n",
    "\n",
    "    y_verdadeiro = y_teste\n",
    "    y_previsao = modelo_rf.predict(X_teste)\n",
    "    RMSE = mean_squared_error(y_verdadeiro, y_previsao, squared=False)\n",
    "\n",
    "    print(\n",
    "        f\"O RMSE do modelo RF usando \"\n",
    "        f\"n_estimators={n_arvores} max_leaf_nodes={n_folhas} \"\n",
    "        f\"e max_depth={n_profundidade} foi de {RMSE:.3f} gols.\"\n",
    "    )"
   ]
  },
  {
   "cell_type": "markdown",
   "id": "42bff38d",
   "metadata": {},
   "source": [
    "### Importância das Features"
   ]
  },
  {
   "cell_type": "code",
   "execution_count": null,
   "id": "17d58da6-5ed8-4feb-94b9-21bf4c04aaf7",
   "metadata": {},
   "outputs": [
    {
     "data": {
      "image/png": "[encoded data removed]",
      "text/plain": [
       "<Figure size 432x288 with 1 Axes>"
      ]
     },
     "metadata": {
      "needs_background": "light"
     },
     "output_type": "display_data"
    }
   ],
   "source": [
    "# Importância das Features com a Impureza\n",
    "\n",
    "N_ARVORES = 50\n",
    "N_JOBS = 4\n",
    "\n",
    "modelo_rf = RandomForestRegressor(\n",
    "    n_estimators=N_ARVORES,\n",
    "    random_state=SEMENTE_ALEATORIA,\n",
    "    n_jobs=N_JOBS,\n",
    ")\n",
    "\n",
    "modelo_rf.fit(X_treino, y_treino)\n",
    "\n",
    "import matplotlib.pyplot as plt\n",
    "import numpy as np\n",
    "import pandas as pd\n",
    "\n",
    "importancia = modelo_rf.feature_importances_\n",
    "desvio_padrao = np.std(\n",
    "    [arvore.feature_importances_ for arvore in modelo_rf.estimators_], axis=0\n",
    ")\n",
    "\n",
    "serie_importancia = pd.Series(importancia, index=FEATURES)\n",
    "\n",
    "fig, axe = plt.subplots()\n",
    "serie_importancia.plot.bar(yerr=desvio_padrao, ax=axe)\n",
    "axe.set_ylabel(\"Redução média da impureza\")\n",
    "plt.show()"
   ]
  },
  {
   "cell_type": "code",
   "execution_count": null,
   "id": "397e67dd-1221-495b-909e-65a782fe438a",
   "metadata": {},
   "outputs": [
    {
     "name": "stdout",
     "output_type": "stream",
     "text": [
      "O R^2 da previsão é de 0.9438965651171258\n",
      "\n",
      "valor_equipe_titular_vis 0.231 +/- 0.004\n",
      "valor_equipe_titular_man 0.180 +/- 0.002\n",
      "colocacao_man            0.139 +/- 0.003\n",
      "ano_campeonato           0.102 +/- 0.002\n",
      "publico                  0.095 +/- 0.002\n",
      "colocacao_vis            0.088 +/- 0.002\n",
      "idade_media_titular_man  0.088 +/- 0.001\n",
      "idade_media_titular_vis  0.086 +/- 0.001\n",
      "gols_vis                 0.050 +/- 0.001\n"
     ]
    }
   ],
   "source": [
    "# Importância das Features com a Permutação e grupo de treino\n",
    "\n",
    "from sklearn.inspection import permutation_importance\n",
    "\n",
    "N_REPETICOES = 10\n",
    "\n",
    "\n",
    "def R2_1param(modelo, x, y):\n",
    "    \"\"\"Computa o coef. de determinação quando hip. alt. não tem coef. linear.\"\"\"\n",
    "    y_pred = modelo.predict(x).ravel()\n",
    "    y_true = (np.array(y)).ravel()\n",
    "    return 1 - sum((y_true - y_pred) ** 2) / sum(y_true**2)\n",
    "\n",
    "\n",
    "X_local = X_treino\n",
    "y_local = y_treino\n",
    "\n",
    "R2 = R2_1param(modelo_rf, X_local, y_local)\n",
    "print(f\"O R^2 da previsão é de {R2}\")\n",
    "\n",
    "# Aqui que calculamos a importância das features\n",
    "r = permutation_importance(\n",
    "    modelo_rf,\n",
    "    X_local,\n",
    "    y_local,\n",
    "    n_repeats=N_REPETICOES,\n",
    "    random_state=SEMENTE_ALEATORIA,\n",
    "    scoring=R2_1param,\n",
    ")\n",
    "\n",
    "print()\n",
    "\n",
    "# Aqui nós exibimos os resultados obtidos\n",
    "for i in r.importances_mean.argsort()[::-1]:\n",
    "    if r.importances_mean[i] - 2 * r.importances_std[i] > 0:\n",
    "        print(f\"{FEATURES[i]:<25}\"\n",
    "              f\"{r.importances_mean[i]:.3f}\"\n",
    "              f\" +/- {r.importances_std[i]:.3f}\")"
   ]
  },
  {
   "cell_type": "code",
   "execution_count": null,
   "id": "109bea4d-9ead-4f67-b891-d8343081867b",
   "metadata": {},
   "outputs": [
    {
     "name": "stdout",
     "output_type": "stream",
     "text": [
      "O R^2 da previsão é de 0.6620541401273883\n",
      "\n",
      "valor_equipe_titular_vis 0.022 +/- 0.007\n",
      "publico                  0.007 +/- 0.003\n",
      "gols_vis                 0.005 +/- 0.002\n"
     ]
    }
   ],
   "source": [
    "# Importância das Features com a Permutação e grupo de teste\n",
    "\n",
    "X_local = X_teste\n",
    "y_local = y_teste\n",
    "\n",
    "R2 = R2_1param(modelo_rf, X_local, y_local)\n",
    "print(f\"O R^2 da previsão é de {R2}\")\n",
    "\n",
    "# Aqui que calculamos a importância das features\n",
    "r = permutation_importance(\n",
    "    modelo_rf,\n",
    "    X_local,\n",
    "    y_local,\n",
    "    n_repeats=N_REPETICOES,\n",
    "    random_state=SEMENTE_ALEATORIA,\n",
    "    scoring=R2_1param,\n",
    ")\n",
    "\n",
    "print()\n",
    "\n",
    "# Aqui nós exibimos os resultados obtidos para as features mais importantes\n",
    "for i in r.importances_mean.argsort()[::-1]:\n",
    "    if r.importances_mean[i] - 2 * r.importances_std[i] > 0:\n",
    "        print(f\"{FEATURES[i]:<25}\"\n",
    "              f\"{r.importances_mean[i]:.3f}\"\n",
    "              f\" +/- {r.importances_std[i]:.3f}\")"
   ]
  },
  {
   "cell_type": "markdown",
   "id": "67969383",
   "metadata": {},
   "source": [
    "## Usando Classificação"
   ]
  },
  {
   "cell_type": "markdown",
   "id": "6c0fbe59",
   "metadata": {},
   "source": [
    "### Reorganizando os dados"
   ]
  },
  {
   "cell_type": "code",
   "execution_count": null,
   "id": "ee8eb859",
   "metadata": {},
   "outputs": [],
   "source": [
    "# Cria uma lista de condições\n",
    "Condições = [\n",
    "    (dfbr['gols_man'] > dfbr['gols_vis']),\n",
    "    (dfbr['gols_man'] == dfbr['gols_vis']),\n",
    "    (dfbr['gols_man'] < dfbr['gols_vis'])\n",
    "    ]\n",
    "\n",
    "# Cria uma lista com os possíveis resultados\n",
    "Valores = ['Vitória', 'Empate', 'Derrota']\n",
    "\n",
    "# Cria uma nova coluna com o resultado da partida para o mandante\n",
    "dfbr['resultado_man'] = np.select(Condições, Valores)\n",
    "\n",
    "dfbr.head()"
   ]
  },
  {
   "cell_type": "code",
   "execution_count": null,
   "id": "0ca6447b",
   "metadata": {},
   "outputs": [],
   "source": [
    "# Nova divisão dos dados do dataset em treino e teste\n",
    "\n",
    "from sklearn.model_selection import train_test_split # Divisão feita usando a função train_test_split\n",
    "\n",
    "TAMANHO_TESTE = 0.3 # Porcentagem destinada do dataset ao grupo de teste\n",
    "SEMENTE_ALEATORIA = 122106 # Definição de uma seed para evitar mudança desses grupos\n",
    "\n",
    "# Escolha dos índices e seleção feita pela função\n",
    "indices = dfbr.index\n",
    "indices_treino, indices_teste = train_test_split(\n",
    "    indices, test_size=TAMANHO_TESTE, random_state=SEMENTE_ALEATORIA\n",
    ")\n",
    "\n",
    "# Atribuição dos índices escolhidos aos dados\n",
    "dfbr_treino = dfbr.loc[indices_treino].sort_index()\n",
    "dfbr_teste = dfbr.loc[indices_teste].sort_index()\n",
    "\n",
    "# Aqui são escolhidos os atributos do dataset e é definido o target \n",
    "\n",
    "FEATURES = [\"valor_equipe_titular_man\",\"publico\",\"idade_media_titular_man\",\"colocacao_man\",\"valor_equipe_titular_vis\",\"idade_media_titular_vis\",\"colocacao_vis\"]\n",
    "TARGET = [\"resultado_man\"]\n",
    "\n",
    "# Divide os dados para se adequarem aos modelos\n",
    "\n",
    "X_treino = dfbr_treino.reindex(FEATURES, axis=1).values\n",
    "y_treino = dfbr_treino.reindex(TARGET, axis=1).values\n",
    "X_teste = dfbr_teste.reindex(FEATURES, axis=1).values\n",
    "y_teste = dfbr_teste.reindex(TARGET, axis=1).values"
   ]
  },
  {
   "cell_type": "markdown",
   "id": "112e1533",
   "metadata": {},
   "source": [
    "### k-NN"
   ]
  },
  {
   "cell_type": "code",
   "execution_count": null,
   "id": "a34d6120",
   "metadata": {},
   "outputs": [],
   "source": [
    "from sklearn.neighbors import KNeighborsClassifier\n",
    "from sklearn import metrics\n",
    "\n",
    "# cria o modelo\n",
    "modelo_knn = KNeighborsClassifier()\n",
    "\n",
    "# treina o modelo\n",
    "modelo_knn.fit(X_treino, y_treino)\n",
    "\n",
    "# realiza uma previsão usando o modelo treinado\n",
    "previsao = modelo_knn.predict(X_teste)\n",
    "print(previsao[0])\n",
    "\n",
    "# Precisão do método\n",
    "print(\"Accuracy:\",metrics.accuracy_score(y_teste, previsao))"
   ]
  },
  {
   "cell_type": "markdown",
   "id": "87f0f54c",
   "metadata": {},
   "source": [
    "### Árvore de Decisão"
   ]
  },
  {
   "cell_type": "code",
   "execution_count": null,
   "id": "0835bc37",
   "metadata": {},
   "outputs": [],
   "source": [
    "from sklearn.tree import DecisionTreeClassifier\n",
    "\n",
    "# cria o modelo\n",
    "modelo_dt = DecisionTreeClassifier(random_state=SEMENTE_ALEATORIA)\n",
    "\n",
    "# treina o modelo\n",
    "modelo_dt.fit(X_treino, y_treino)\n",
    "\n",
    "# realiza uma previsão usando o modelo treinado\n",
    "previsao = modelo_dt.predict(X_teste)\n",
    "print(previsao[0])\n",
    "\n",
    "# Precisão do método\n",
    "print(\"Accuracy:\",metrics.accuracy_score(y_teste, previsao))"
   ]
  },
  {
   "cell_type": "markdown",
   "id": "0f394cdd",
   "metadata": {},
   "source": [
    "### Floresta Aleatória"
   ]
  },
  {
   "cell_type": "code",
   "execution_count": null,
   "id": "11ead6d9",
   "metadata": {},
   "outputs": [],
   "source": [
    "# Floresta Aleatória\n",
    "\n",
    "from sklearn.ensemble import RandomForestClassifier\n",
    "\n",
    "# cria o modelo\n",
    "modelo_rf = RandomForestClassifier(random_state=SEMENTE_ALEATORIA)\n",
    "\n",
    "# treina o modelo\n",
    "modelo_rf.fit(X_treino, y_treino.ravel())\n",
    "\n",
    "# realiza uma previsão usando o modelo treinado\n",
    "previsao = modelo_rf.predict(X_teste)\n",
    "print(previsao[0])\n",
    "\n",
    "# Precisão do método\n",
    "print(\"Accuracy:\",metrics.accuracy_score(y_teste, previsao))"
   ]
  },
  {
   "cell_type": "code",
   "execution_count": null,
   "id": "842d4a71",
   "metadata": {},
   "outputs": [],
   "source": [
    "# Floresta Aleatória com hiperparâmetros\n",
    "\n",
    "from itertools import product\n",
    "\n",
    "NUM_ARVORES = [50]\n",
    "NUM_FOLHAS = [3, 6, 9]\n",
    "NUM_PROFUNDIDADE = [2, 3, 6]\n",
    "\n",
    "for n_folhas, n_profundidade, n_arvores in product(\n",
    "    NUM_FOLHAS, NUM_PROFUNDIDADE, NUM_ARVORES\n",
    "):\n",
    "    modelo_rf = RandomForestClassifier(\n",
    "        n_estimators=n_arvores,\n",
    "        max_leaf_nodes=n_folhas,\n",
    "        max_depth=n_profundidade,\n",
    "        random_state=SEMENTE_ALEATORIA,\n",
    "        n_jobs=4,\n",
    "    )\n",
    "\n",
    "    modelo_rf.fit(X_treino, y_treino.ravel())\n",
    "\n",
    "    y_verdadeiro = y_teste\n",
    "    y_previsao = modelo_rf.predict(X_teste)\n",
    "    \n",
    "    acuracia = metrics.accuracy_score(y_teste, y_previsao)\n",
    "    #print(\"Accuracy:\",acuracia)\n",
    "    \n",
    "    print(\n",
    "        f\"A acurácia do modelo RF usando \"\n",
    "        f\"n_estimators={n_arvores} max_leaf_nodes={n_folhas} \"\n",
    "        f\"e max_depth={n_profundidade} foi de {acuracia:.4f}.\"\n",
    "    )"
   ]
  }
 ],
 "metadata": {
  "kernelspec": {
   "display_name": "ilumpy",
   "language": "python",
   "name": "ilumpy"
  },
  "language_info": {
   "codemirror_mode": {
    "name": "ipython",
    "version": 3
   },
   "file_extension": ".py",
   "mimetype": "text/x-python",
   "name": "python",
   "nbconvert_exporter": "python",
   "pygments_lexer": "ipython3",
   "version": "3.9.7"
  }
 },
 "nbformat": 4,
 "nbformat_minor": 5
}
