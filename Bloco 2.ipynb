{
 "cells": [
  {
   "cell_type": "markdown",
   "id": "1261d504-f8a2-4479-aa44-7feb6cb276de",
   "metadata": {},
   "source": [
    "# Bloco 2- Métodos de Modelagem dos Dados"
   ]
  },
  {
   "cell_type": "markdown",
   "id": "f2a1a404-950a-4520-9782-4b081df22933",
   "metadata": {},
   "source": [
    "## Dados"
   ]
  },
  {
   "cell_type": "code",
   "execution_count": 1,
   "id": "95bbd582-2c6a-4f83-a101-b24d2abf0dbe",
   "metadata": {},
   "outputs": [
    {
     "name": "stderr",
     "output_type": "stream",
     "text": [
      "c:\\venv\\ilumpy\\lib\\site-packages\\openpyxl\\worksheet\\header_footer.py:48: UserWarning: Cannot parse header or footer so it will be ignored\n",
      "  warn(\"\"\"Cannot parse header or footer so it will be ignored\"\"\")\n"
     ]
    }
   ],
   "source": [
    "import matplotlib.pyplot as plt\n",
    "import pandas as pd\n",
    "\n",
    "# Código para ler o arquivo em xls e retorná-lo em dataframe\n",
    "dfbr = pd.read_excel(\"dados brasileirao.xlsx\") \n",
    "\n",
    "# Nesta linha, foram retiradas todas as colunas que possuiam dados relativos à estáticas após o começo do jogo. Os Dados após o jogo começar não nos ajudam a prever os nossos resultados, pois são muito específicos de cada jogo. Então vamos analisar o principal: número de gols\n",
    "dfbr = dfbr.drop([\"escanteios_man\", \"escanteios_vis\", \"publico_max\", \"faltas_man\", \"faltas_vis\", \"chutes_bola_parada_man\", \"chutes_bola_parada_vis\", \"defesas_man\", \"defesas_vis\", \"impedimentos_man\", \"impedimentos_vis\", \"chutes_man\", \"chutes_vis\", \"chutes_fora_man\", \"chutes_fora_vis\", \"gols_1_tempo_man\", \"gols_1_tempo_vis\"], axis=1)\n",
    "\n",
    "# Nesta linha, foram tiradas todas as linhas que possuiam dados faltantes, visto que os anos iniciais não tinham todos os dados da tabela preenchidos.\n",
    "dfbr = dfbr.dropna(axis = 0)\n",
    "\n",
    "# Nesta linha, são redefinidos os índices para facilitar o trabalho com os dados e foi feito após retirar os dados que não íamos precisar.\n",
    "dfbr = dfbr.reset_index()\n",
    "\n",
    "# Nesta parte, foram retiradas as colunas \"index\" e \"Unnamed: 0\" para facilitar o trabalho com os dados (Eram colunas com repetição de índices antigos)\n",
    "dfbr = dfbr.drop(columns=[\"index\", \"Unnamed: 0\"])"
   ]
  },
  {
   "cell_type": "markdown",
   "id": "7328eda8-21fc-4d15-aad9-83bc35efa4ff",
   "metadata": {},
   "source": [
    "## Divisão do dataset"
   ]
  },
  {
   "cell_type": "code",
   "execution_count": 2,
   "id": "4a20849c-9d5f-4cac-a85d-47f88fe73750",
   "metadata": {},
   "outputs": [],
   "source": [
    "# Divisão dos dados do dataset em treino e teste\n",
    "\n",
    "from sklearn.model_selection import train_test_split # Divisão feita usando a função train_test_split\n",
    "\n",
    "TAMANHO_TESTE = 0.1 # Porcentagem destinada do dataset ao grupo de teste\n",
    "SEMENTE_ALEATORIA = 122106 # Definição de uma seed para evitar mudança desses grupos\n",
    "\n",
    "# Escolha dos índices e seleção feita pela função\n",
    "indices = dfbr.index\n",
    "indices_treino, indices_teste = train_test_split(\n",
    "    indices, test_size=TAMANHO_TESTE, random_state=SEMENTE_ALEATORIA\n",
    ")\n",
    "\n",
    "# Atribuição dos índices escolhidos aos dados\n",
    "dfbr_treino = dfbr.loc[indices_treino].sort_index()\n",
    "dfbr_teste = dfbr.loc[indices_teste].sort_index()\n",
    "\n",
    "# Aqui são escolhidos os atributos do dataset e é definido o target \n",
    "\n",
    "FEATURES = [\"valor_equipe_titular_man\",\"publico\",\"idade_media_titular_man\",\"colocacao_man\",\"valor_equipe_titular_vis\",\"idade_media_titular_vis\",\"gols_vis\",\"colocacao_vis\",\"ano_campeonato\"]\n",
    "TARGET = [\"gols_man\"]\n",
    "\n",
    "# Divide os dados para se adequarem aos modelos\n",
    "\n",
    "X_treino = dfbr_treino.reindex(FEATURES, axis=1).values\n",
    "y_treino = dfbr_treino.reindex(TARGET, axis=1).values\n",
    "X_teste = dfbr_teste.reindex(FEATURES, axis=1).values\n",
    "y_teste = dfbr_teste.reindex(TARGET, axis=1).values"
   ]
  },
  {
   "cell_type": "markdown",
   "id": "58f993d0-eb07-408c-bb5c-9be3d3196e2d",
   "metadata": {},
   "source": [
    "Nessa etapa foi preciso fazer a divisão do dataset em treino e teste, uma vez que, nesse bloco o foco era fazer a modelagem dos nossos dados. E com isso, dividimos os atributos que seriam colocados como features e como target (gols feito pela equipe mandante)"
   ]
  },
  {
   "cell_type": "markdown",
   "id": "505255e5-afe8-4a7e-ab4a-2b30384ac4d0",
   "metadata": {},
   "source": [
    "### Modelo Baseline"
   ]
  },
  {
   "cell_type": "code",
   "execution_count": 3,
   "id": "fb6f4543-b66a-4fcf-a1f0-ca1831587aa6",
   "metadata": {},
   "outputs": [
    {
     "name": "stdout",
     "output_type": "stream",
     "text": [
      "O time mandante faria 1.5049683830171634 gols\n",
      "O RMSE do modelo baseline foi de 1.1665724061927247 gols.\n"
     ]
    }
   ],
   "source": [
    "from sklearn.dummy import DummyRegressor\n",
    "from sklearn.metrics import mean_squared_error\n",
    "\n",
    "# Cria um modelo baseline para termos uma base de comparação com outros modelos\n",
    "modelo_baseline = DummyRegressor()\n",
    "\n",
    "# Treina o modelo de acordo com os dados escolhidos antes\n",
    "modelo_baseline.fit(X_treino, y_treino)\n",
    "\n",
    "# Realiza uma previsão usando o modelo treinado\n",
    "previsao_baseline = modelo_baseline.predict(X_teste)\n",
    "print(f\"O time mandante faria {previsao_baseline[0]} gols\")\n",
    "\n",
    "# Verificando o erro do modelo usando o RMSE (root mean squared error)\n",
    "y_verdadeiro = y_teste\n",
    "y_previsao_baseline = modelo_baseline.predict(X_teste)\n",
    "\n",
    "RMSE = mean_squared_error(y_verdadeiro, y_previsao_baseline, squared=False)\n",
    "\n",
    "print(f\"O RMSE do modelo baseline foi de {RMSE} gols.\")"
   ]
  },
  {
   "cell_type": "markdown",
   "id": "5a377705-b973-48a6-abec-a2f8a1cc1fae",
   "metadata": {},
   "source": [
    "Nessa parte, foi preciso fazer o baseline para termos um parâmetro de comparação com outros modelos e também foi calculado o erro (RMSE) referente a tal modelagem."
   ]
  },
  {
   "cell_type": "markdown",
   "id": "5da27bf1-bc14-45de-8caa-4a3db85b783f",
   "metadata": {},
   "source": [
    "### Regressão Linear"
   ]
  },
  {
   "cell_type": "code",
   "execution_count": 4,
   "id": "3a6941a1-7ef9-4a88-a473-9a437694b847",
   "metadata": {},
   "outputs": [
    {
     "name": "stdout",
     "output_type": "stream",
     "text": [
      "[1.54035654]\n",
      "O RMSE do modelo linear foi de 1.1010162933686618 gols.\n"
     ]
    }
   ],
   "source": [
    "from sklearn.linear_model import LinearRegression\n",
    "\n",
    "# Cria um modelo linear\n",
    "modelo_linear = LinearRegression()\n",
    "\n",
    "# Treina esse modelo \n",
    "modelo_linear.fit(X_treino, y_treino)\n",
    "\n",
    "# Realiza uma previsão usando o modelo treinado\n",
    "previsao_linear = modelo_linear.predict(X_teste)\n",
    "print(previsao_linear[0]) # Foi escolhida apenas uma linha para melhorar a visualização\n",
    "\n",
    "# Verificando o erro do modelo usando o RMSE (root mean squared error)\n",
    "\n",
    "y_verdadeiro = y_teste\n",
    "y_previsao_linear = modelo_linear.predict(X_teste)\n",
    "\n",
    "RMSE = mean_squared_error(y_verdadeiro, y_previsao_linear, squared=False)\n",
    "\n",
    "print(f\"O RMSE do modelo linear foi de {RMSE} gols.\")"
   ]
  },
  {
   "cell_type": "markdown",
   "id": "7f9e5b9d-7851-42dd-bcba-a0a4f903a595",
   "metadata": {},
   "source": [
    "A primeira abordagem foi feita usado regressão linear e com ela observamos um erro menor em comparação ao baseline."
   ]
  },
  {
   "cell_type": "markdown",
   "id": "a0306538-ff45-4e07-931b-65a4292922f1",
   "metadata": {},
   "source": [
    "### Regressão Linear Normalizada"
   ]
  },
  {
   "cell_type": "code",
   "execution_count": 5,
   "id": "e9aac4cc-c640-46d6-aebb-ff046e47430f",
   "metadata": {},
   "outputs": [
    {
     "name": "stdout",
     "output_type": "stream",
     "text": [
      "[[1.82152712]\n",
      " [1.71269558]\n",
      " [1.80884794]\n",
      " ...\n",
      " [1.15358695]\n",
      " [1.54537951]\n",
      " [1.55884239]]\n",
      "O RMSE do modelo linear foi de 1.1010162933686638 gols.\n"
     ]
    }
   ],
   "source": [
    "from sklearn.preprocessing import MinMaxScaler\n",
    "\n",
    "# Usa um função normalizadora sobre os dados\n",
    "\n",
    "normalizador_x = MinMaxScaler()\n",
    "normalizador_y = MinMaxScaler()\n",
    "\n",
    "normalizador_x.fit(X_treino)\n",
    "normalizador_y.fit(y_treino)\n",
    "\n",
    "# Cria um modelo linear\n",
    "modelo_linear_norm = LinearRegression()\n",
    "\n",
    "# Treina esse modelo\n",
    "modelo_linear_norm.fit(\n",
    "    normalizador_x.transform(X_treino),\n",
    "    normalizador_y.transform(y_treino),\n",
    ")\n",
    "\n",
    "# Realiza uma previsão usando o modelo linear normalizado treinado\n",
    "previsao = modelo_linear_norm.predict(normalizador_x.transform(X_treino))\n",
    "previsao = normalizador_y.inverse_transform(previsao)\n",
    "print(previsao)\n",
    "\n",
    "# Verificando o erro do modelo usando o RMSE (root mean squared error)\n",
    "\n",
    "y_verdadeiro = y_teste\n",
    "y_previsao = modelo_linear_norm.predict(normalizador_x.transform(X_teste))\n",
    "y_previsao = normalizador_y.inverse_transform(y_previsao)\n",
    "\n",
    "RMSE = mean_squared_error(y_verdadeiro, y_previsao, squared=False)\n",
    "\n",
    "print(f\"O RMSE do modelo linear foi de {RMSE} gols.\")\n"
   ]
  },
  {
   "cell_type": "markdown",
   "id": "a0471c99-640a-414a-abf6-5195c104105a",
   "metadata": {},
   "source": [
    "A normalização, algo muito importante a ser feito em machine learning, visto que, ajuda a ter um menor erro pelo controle da dispersão dos dados, no nosso dataset não mostrou uma diferença considerável. Por exemplo, podemos citar os valores do time mandante na mesma feature que estão sempre em uma ordem de grandeza próxima ou igual."
   ]
  },
  {
   "cell_type": "markdown",
   "id": "5be628f8-0fe5-4b50-bf13-bb3cc2a32ff2",
   "metadata": {},
   "source": [
    "### k-NN / k vizinhos"
   ]
  },
  {
   "cell_type": "code",
   "execution_count": 6,
   "id": "e8720c84-6fe5-4dbe-92db-7c1d9ebc8fef",
   "metadata": {},
   "outputs": [
    {
     "name": "stdout",
     "output_type": "stream",
     "text": [
      "[1.2]\n"
     ]
    }
   ],
   "source": [
    "from sklearn.neighbors import KNeighborsRegressor\n",
    "\n",
    "# cria o modelo\n",
    "modelo_knn = KNeighborsRegressor()\n",
    "\n",
    "# treina o modelo\n",
    "modelo_knn.fit(X_treino, y_treino)\n",
    "\n",
    "# realiza uma previsão usando o modelo treinado\n",
    "previsao = modelo_knn.predict(X_teste)\n",
    "print(previsao[0])"
   ]
  },
  {
   "cell_type": "code",
   "execution_count": 7,
   "id": "a257779f-46af-4111-93c2-34c577bddcab",
   "metadata": {},
   "outputs": [
    {
     "name": "stdout",
     "output_type": "stream",
     "text": [
      "O RMSE do modelo k-NN foi de 1.2451610191010816 gols.\n"
     ]
    }
   ],
   "source": [
    "from sklearn.metrics import mean_squared_error\n",
    "\n",
    "y_verdadeiro = y_teste\n",
    "y_previsao = modelo_knn.predict(X_teste)\n",
    "\n",
    "RMSE = mean_squared_error(y_verdadeiro, y_previsao, squared=False)\n",
    "\n",
    "print(f\"O RMSE do modelo k-NN foi de {RMSE} gols.\")"
   ]
  },
  {
   "cell_type": "code",
   "execution_count": 8,
   "id": "f1ed80e9-47cd-44fb-9f67-bfd5bd346eb0",
   "metadata": {},
   "outputs": [
    {
     "name": "stdout",
     "output_type": "stream",
     "text": [
      "O RMSE do modelo k-NN usando k=1 foi de 1.5821006909640374 gols.\n",
      "O RMSE do modelo k-NN usando k=10 foi de 1.1816806541350324 gols.\n",
      "O RMSE do modelo k-NN usando k=100 foi de 1.1231268832786456 gols.\n"
     ]
    }
   ],
   "source": [
    "NUM_VIZINHOS = [1, 10, 100]\n",
    "\n",
    "for n in NUM_VIZINHOS:\n",
    "    modelo_knn = KNeighborsRegressor(n_neighbors=n)\n",
    "\n",
    "    modelo_knn.fit(X_treino, y_treino)\n",
    "\n",
    "    y_verdadeiro = y_teste\n",
    "    y_previsao = modelo_knn.predict(X_teste)\n",
    "    RMSE = mean_squared_error(y_verdadeiro, y_previsao, squared=False)\n",
    "    print(f\"O RMSE do modelo k-NN usando k={n} foi de {RMSE} gols.\")"
   ]
  },
  {
   "cell_type": "markdown",
   "id": "3e32b610-fb51-4d90-8ed9-0f6706330f1f",
   "metadata": {},
   "source": [
    "No K Vizinhos tivemos um pior erro comparado ao da regressão linear, mas que diminui quando aumentamos o número de vizinhos."
   ]
  },
  {
   "cell_type": "markdown",
   "id": "93bb82bd-fa4c-4069-9516-fb6f75e610f2",
   "metadata": {},
   "source": [
    "### Árvore de Decisão"
   ]
  },
  {
   "cell_type": "code",
   "execution_count": 10,
   "id": "ff1047ae-e641-4f9c-98f0-49aca4297e04",
   "metadata": {},
   "outputs": [
    {
     "name": "stdout",
     "output_type": "stream",
     "text": [
      "1.0\n",
      "O RMSE do modelo árvore de decisão foi de 1.6809395614746618 gols.\n"
     ]
    }
   ],
   "source": [
    "# Árvore de Decisão\n",
    "\n",
    "from sklearn.tree import DecisionTreeRegressor\n",
    "\n",
    "# cria o modelo\n",
    "modelo_dt = DecisionTreeRegressor(random_state=SEMENTE_ALEATORIA)\n",
    "\n",
    "# treina o modelo\n",
    "modelo_dt.fit(X_treino, y_treino)\n",
    "\n",
    "# realiza uma previsão usando o modelo treinado\n",
    "previsao = modelo_dt.predict(X_teste)\n",
    "print(previsao[1]) # Escolhido apenas um elemento para facilitar a visualização\n",
    "\n",
    "y_verdadeiro = y_teste\n",
    "y_previsao = modelo_dt.predict(X_teste)\n",
    "\n",
    "RMSE = mean_squared_error(y_verdadeiro, y_previsao, squared=False)\n",
    "\n",
    "print(f\"O RMSE do modelo árvore de decisão foi de {RMSE} gols.\")"
   ]
  },
  {
   "cell_type": "code",
   "execution_count": 11,
   "id": "4197b5e8-5f97-4560-a7a4-c0cfd21df2c1",
   "metadata": {},
   "outputs": [
    {
     "name": "stdout",
     "output_type": "stream",
     "text": [
      "O RMSE do modelo AD usando max_leaf_nodes=None e max_depth=None foi de 1.681 gols.\n",
      "O RMSE do modelo AD usando max_leaf_nodes=None e max_depth=1 foi de 1.140 gols.\n",
      "O RMSE do modelo AD usando max_leaf_nodes=None e max_depth=2 foi de 1.125 gols.\n",
      "O RMSE do modelo AD usando max_leaf_nodes=None e max_depth=3 foi de 1.130 gols.\n",
      "O RMSE do modelo AD usando max_leaf_nodes=None e max_depth=10 foi de 1.333 gols.\n",
      "O RMSE do modelo AD usando max_leaf_nodes=6 e max_depth=None foi de 1.121 gols.\n",
      "O RMSE do modelo AD usando max_leaf_nodes=6 e max_depth=1 foi de 1.140 gols.\n",
      "O RMSE do modelo AD usando max_leaf_nodes=6 e max_depth=2 foi de 1.125 gols.\n",
      "O RMSE do modelo AD usando max_leaf_nodes=6 e max_depth=3 foi de 1.121 gols.\n",
      "O RMSE do modelo AD usando max_leaf_nodes=6 e max_depth=10 foi de 1.121 gols.\n",
      "O RMSE do modelo AD usando max_leaf_nodes=36 e max_depth=None foi de 1.166 gols.\n",
      "O RMSE do modelo AD usando max_leaf_nodes=36 e max_depth=1 foi de 1.140 gols.\n",
      "O RMSE do modelo AD usando max_leaf_nodes=36 e max_depth=2 foi de 1.125 gols.\n",
      "O RMSE do modelo AD usando max_leaf_nodes=36 e max_depth=3 foi de 1.130 gols.\n",
      "O RMSE do modelo AD usando max_leaf_nodes=36 e max_depth=10 foi de 1.166 gols.\n"
     ]
    }
   ],
   "source": [
    "# Árvore de decisões com hiperparâmetros\n",
    "\n",
    "from itertools import product\n",
    "\n",
    "NUM_FOLHAS = [None, 6, 36]\n",
    "NUM_PROFUNDIDADE = [None, 1, 2, 3, 10]\n",
    "\n",
    "for n_folhas, n_profundidade in product(NUM_FOLHAS, NUM_PROFUNDIDADE):\n",
    "    modelo_dt = DecisionTreeRegressor(\n",
    "        max_leaf_nodes=n_folhas,\n",
    "        max_depth=n_profundidade,\n",
    "        random_state=SEMENTE_ALEATORIA,\n",
    "    )\n",
    "\n",
    "    modelo_dt.fit(X_treino, y_treino)\n",
    "\n",
    "    y_verdadeiro = y_teste\n",
    "    y_previsao = modelo_dt.predict(X_teste)\n",
    "    RMSE = mean_squared_error(y_verdadeiro, y_previsao, squared=False)\n",
    "\n",
    "    print(\n",
    "        f\"O RMSE do modelo AD usando max_leaf_nodes={n_folhas} \"\n",
    "        f\"e max_depth={n_profundidade} foi de {RMSE:.3f} gols.\"\n",
    "    )"
   ]
  },
  {
   "cell_type": "code",
   "execution_count": 12,
   "id": "42c0203d-b8b2-482b-949f-fc83a2481c6a",
   "metadata": {},
   "outputs": [
    {
     "data": {
      "image/png": "[encoded data removed]",
      "text/plain": [
       "<Figure size 1050x600 with 1 Axes>"
      ]
     },
     "metadata": {
      "needs_background": "light"
     },
     "output_type": "display_data"
    }
   ],
   "source": [
    "# Visualização da Árvore de Decisão\n",
    "\n",
    "from matplotlib import pyplot as plt\n",
    "from sklearn import tree\n",
    "\n",
    "# Cria e treina o modelo\n",
    "modelo_dt = DecisionTreeRegressor(\n",
    "    max_leaf_nodes=6,\n",
    "    random_state=SEMENTE_ALEATORIA,\n",
    ")\n",
    "modelo_dt.fit(X_treino, y_treino)\n",
    "\n",
    "# Cria os objetos de figura e eixo\n",
    "fig, axe = plt.subplots(\n",
    "    ncols=1,\n",
    "    nrows=1,\n",
    "    figsize=(7, 4),\n",
    "    dpi=150,\n",
    ")\n",
    "\n",
    "# Plota o grafo da árvore de decisão\n",
    "tree.plot_tree(\n",
    "    modelo_dt,\n",
    "    feature_names=FEATURES,\n",
    "    ax=axe,\n",
    "    impurity=False,\n",
    "    filled=True,\n",
    "    proportion=True,\n",
    "    precision=2,\n",
    ")\n",
    "\n",
    "# Salva a imagem\n",
    "#plt.savefig('ÁrvoreDoFut.png',facecolor='white')\n",
    "\n",
    "# Mostra o plot para o usuário\n",
    "plt.show()"
   ]
  },
  {
   "cell_type": "markdown",
   "id": "06d6e1fb-3b34-4763-b8e0-52a80ffc60aa",
   "metadata": {},
   "source": [
    "Nessa modelagem precisamos controlar a profunidade e o número de folhas que queríamos que estivesse na árvore de decisão e isso foi crucial para o controle de erro dos nossos dados. Assim, o melhor parâmetro que encontramos foi com max_leaf_nodes=6 e max_depth=3, max_depth=10 ou max_depth= None. Assim, percebemos que a profundidade foi menos relevante que o número de folhas. "
   ]
  },
  {
   "cell_type": "markdown",
   "id": "fae756bc-176b-4f62-ad99-ac05a3200047",
   "metadata": {},
   "source": [
    "### Floresta Aleatória"
   ]
  },
  {
   "cell_type": "code",
   "execution_count": 13,
   "id": "a15b8060-9200-4407-8954-f5c1f2e12b3d",
   "metadata": {},
   "outputs": [
    {
     "name": "stdout",
     "output_type": "stream",
     "text": [
      "(4428, 1) (493, 1)\n",
      "(4428,) (493,)\n",
      "\n",
      "1.83\n",
      "O RMSE do modelo floresta de decisão foi de 1.1285866872998755 gols.\n"
     ]
    }
   ],
   "source": [
    "# Floresta Aleatória\n",
    "\n",
    "from sklearn.ensemble import RandomForestRegressor\n",
    "\n",
    "# alterando o formato do target\n",
    "print(y_treino.shape, y_teste.shape)\n",
    "y_treino = y_treino.ravel()\n",
    "y_teste = y_teste.ravel()\n",
    "print(y_treino.shape, y_teste.shape)\n",
    "\n",
    "# cria o modelo\n",
    "modelo_rf = RandomForestRegressor(random_state=SEMENTE_ALEATORIA)\n",
    "\n",
    "# treina o modelo\n",
    "modelo_rf.fit(X_treino, y_treino)\n",
    "\n",
    "# realiza uma previsão usando o modelo treinado\n",
    "previsao = modelo_rf.predict(X_teste)\n",
    "print()\n",
    "print(previsao[0]) # Escolhido um elemento para facilitar a visualização\n",
    "\n",
    "y_verdadeiro = y_teste\n",
    "y_previsao = modelo_rf.predict(X_teste)\n",
    "\n",
    "RMSE = mean_squared_error(y_verdadeiro, y_previsao, squared=False)\n",
    "\n",
    "print(f\"O RMSE do modelo floresta de decisão foi de {RMSE} gols.\")"
   ]
  },
  {
   "cell_type": "code",
   "execution_count": 14,
   "id": "3ef9e649-67f4-4b5a-b2a7-045f9e9a89b9",
   "metadata": {},
   "outputs": [
    {
     "name": "stdout",
     "output_type": "stream",
     "text": [
      "O RMSE do modelo RF usando n_estimators=10 max_leaf_nodes=None e max_depth=None foi de 1.171 gols.\n",
      "O RMSE do modelo RF usando n_estimators=100 max_leaf_nodes=None e max_depth=None foi de 1.129 gols.\n",
      "O RMSE do modelo RF usando n_estimators=300 max_leaf_nodes=None e max_depth=None foi de 1.120 gols.\n",
      "O RMSE do modelo RF usando n_estimators=10 max_leaf_nodes=None e max_depth=3 foi de 1.113 gols.\n",
      "O RMSE do modelo RF usando n_estimators=100 max_leaf_nodes=None e max_depth=3 foi de 1.115 gols.\n",
      "O RMSE do modelo RF usando n_estimators=300 max_leaf_nodes=None e max_depth=3 foi de 1.114 gols.\n",
      "O RMSE do modelo RF usando n_estimators=10 max_leaf_nodes=6 e max_depth=None foi de 1.115 gols.\n",
      "O RMSE do modelo RF usando n_estimators=100 max_leaf_nodes=6 e max_depth=None foi de 1.117 gols.\n",
      "O RMSE do modelo RF usando n_estimators=300 max_leaf_nodes=6 e max_depth=None foi de 1.117 gols.\n",
      "O RMSE do modelo RF usando n_estimators=10 max_leaf_nodes=6 e max_depth=3 foi de 1.114 gols.\n",
      "O RMSE do modelo RF usando n_estimators=100 max_leaf_nodes=6 e max_depth=3 foi de 1.117 gols.\n",
      "O RMSE do modelo RF usando n_estimators=300 max_leaf_nodes=6 e max_depth=3 foi de 1.117 gols.\n"
     ]
    }
   ],
   "source": [
    "# Floresta Aleatória com Hiperparâmetros\n",
    "\n",
    "from itertools import product\n",
    "\n",
    "NUM_ARVORES = [10, 100, 300]\n",
    "NUM_FOLHAS = [None, 6]\n",
    "NUM_PROFUNDIDADE = [None, 3]\n",
    "\n",
    "for n_folhas, n_profundidade, n_arvores in product(\n",
    "    NUM_FOLHAS, NUM_PROFUNDIDADE, NUM_ARVORES\n",
    "):\n",
    "    modelo_rf = RandomForestRegressor(\n",
    "        n_estimators=n_arvores,\n",
    "        max_leaf_nodes=n_folhas,\n",
    "        max_depth=n_profundidade,\n",
    "        random_state=SEMENTE_ALEATORIA,\n",
    "        n_jobs=4,\n",
    "    )\n",
    "\n",
    "    modelo_rf.fit(X_treino, y_treino)\n",
    "\n",
    "    y_verdadeiro = y_teste\n",
    "    y_previsao = modelo_rf.predict(X_teste)\n",
    "    RMSE = mean_squared_error(y_verdadeiro, y_previsao, squared=False)\n",
    "\n",
    "    print(\n",
    "        f\"O RMSE do modelo RF usando \"\n",
    "        f\"n_estimators={n_arvores} max_leaf_nodes={n_folhas} \"\n",
    "        f\"e max_depth={n_profundidade} foi de {RMSE:.3f} gols.\"\n",
    "    )"
   ]
  },
  {
   "cell_type": "markdown",
   "id": "c36b9f10-2ae9-44c4-8fcb-38d240d40325",
   "metadata": {},
   "source": [
    "Na floresta o RMSE se comportou de forma melhor do que na árvore de decisão, porém não teve nenhuma diferença significativa."
   ]
  },
  {
   "cell_type": "markdown",
   "id": "bcf13641-f9cd-4251-b167-0fd6393c2142",
   "metadata": {},
   "source": [
    "### Importância das Features"
   ]
  },
  {
   "cell_type": "code",
   "execution_count": 15,
   "id": "a785a898-a2b7-4a20-a59c-217bc83279b5",
   "metadata": {},
   "outputs": [
    {
     "data": {
      "image/png": "[encoded data removed]",
      "text/plain": [
       "<Figure size 432x288 with 1 Axes>"
      ]
     },
     "metadata": {
      "needs_background": "light"
     },
     "output_type": "display_data"
    }
   ],
   "source": [
    "# Importância das Features com a Impureza\n",
    "\n",
    "N_ARVORES = 50\n",
    "N_JOBS = 4\n",
    "\n",
    "modelo_rf = RandomForestRegressor(\n",
    "    n_estimators=N_ARVORES,\n",
    "    random_state=SEMENTE_ALEATORIA,\n",
    "    n_jobs=N_JOBS,\n",
    ")\n",
    "\n",
    "modelo_rf.fit(X_treino, y_treino)\n",
    "\n",
    "import matplotlib.pyplot as plt\n",
    "import numpy as np\n",
    "import pandas as pd\n",
    "\n",
    "importancia = modelo_rf.feature_importances_\n",
    "desvio_padrao = np.std(\n",
    "    [arvore.feature_importances_ for arvore in modelo_rf.estimators_], axis=0\n",
    ")\n",
    "\n",
    "serie_importancia = pd.Series(importancia, index=FEATURES)\n",
    "\n",
    "fig, axe = plt.subplots()\n",
    "serie_importancia.plot.bar(yerr=desvio_padrao, ax=axe)\n",
    "axe.set_ylabel(\"Redução média da impureza\")\n",
    "plt.show()"
   ]
  },
  {
   "cell_type": "code",
   "execution_count": 16,
   "id": "b4a18730-0b19-441f-be25-c1a61a529959",
   "metadata": {},
   "outputs": [
    {
     "name": "stdout",
     "output_type": "stream",
     "text": [
      "O R^2 da previsão é de 0.9438965651171258\n",
      "\n",
      "valor_equipe_titular_vis 0.231 +/- 0.004\n",
      "valor_equipe_titular_man 0.180 +/- 0.002\n",
      "colocacao_man            0.139 +/- 0.003\n",
      "ano_campeonato           0.102 +/- 0.002\n",
      "publico                  0.095 +/- 0.002\n",
      "colocacao_vis            0.088 +/- 0.002\n",
      "idade_media_titular_man  0.088 +/- 0.001\n",
      "idade_media_titular_vis  0.086 +/- 0.001\n",
      "gols_vis                 0.050 +/- 0.001\n"
     ]
    }
   ],
   "source": [
    "# Importância das Features com a Permutação e grupo de treino\n",
    "\n",
    "from sklearn.inspection import permutation_importance\n",
    "\n",
    "N_REPETICOES = 10\n",
    "\n",
    "\n",
    "def R2_1param(modelo, x, y):\n",
    "    \"\"\"Computa o coef. de determinação quando hip. alt. não tem coef. linear.\"\"\"\n",
    "    y_pred = modelo.predict(x).ravel()\n",
    "    y_true = (np.array(y)).ravel()\n",
    "    return 1 - sum((y_true - y_pred) ** 2) / sum(y_true**2)\n",
    "\n",
    "\n",
    "X_local = X_treino\n",
    "y_local = y_treino\n",
    "\n",
    "R2 = R2_1param(modelo_rf, X_local, y_local)\n",
    "print(f\"O R^2 da previsão é de {R2}\")\n",
    "\n",
    "# Aqui que calculamos a importância das features\n",
    "r = permutation_importance(\n",
    "    modelo_rf,\n",
    "    X_local,\n",
    "    y_local,\n",
    "    n_repeats=N_REPETICOES,\n",
    "    random_state=SEMENTE_ALEATORIA,\n",
    "    scoring=R2_1param,\n",
    ")\n",
    "\n",
    "print()\n",
    "\n",
    "# Aqui nós exibimos os resultados obtidos\n",
    "for i in r.importances_mean.argsort()[::-1]:\n",
    "    if r.importances_mean[i] - 2 * r.importances_std[i] > 0:\n",
    "        print(f\"{FEATURES[i]:<25}\"\n",
    "              f\"{r.importances_mean[i]:.3f}\"\n",
    "              f\" +/- {r.importances_std[i]:.3f}\")"
   ]
  },
  {
   "cell_type": "code",
   "execution_count": 17,
   "id": "2604fae1-e403-4272-a779-ba502fa18d8d",
   "metadata": {},
   "outputs": [
    {
     "name": "stdout",
     "output_type": "stream",
     "text": [
      "O R^2 da previsão é de 0.6620541401273883\n",
      "\n",
      "valor_equipe_titular_vis 0.022 +/- 0.007\n",
      "publico                  0.007 +/- 0.003\n",
      "gols_vis                 0.005 +/- 0.002\n"
     ]
    }
   ],
   "source": [
    "# Importância das Features com a Permutação e grupo de teste\n",
    "\n",
    "X_local = X_teste\n",
    "y_local = y_teste\n",
    "\n",
    "R2 = R2_1param(modelo_rf, X_local, y_local)\n",
    "print(f\"O R^2 da previsão é de {R2}\")\n",
    "\n",
    "# Aqui que calculamos a importância das features\n",
    "r = permutation_importance(\n",
    "    modelo_rf,\n",
    "    X_local,\n",
    "    y_local,\n",
    "    n_repeats=N_REPETICOES,\n",
    "    random_state=SEMENTE_ALEATORIA,\n",
    "    scoring=R2_1param,\n",
    ")\n",
    "\n",
    "print()\n",
    "\n",
    "# Aqui nós exibimos os resultados obtidos para as features mais importantes\n",
    "for i in r.importances_mean.argsort()[::-1]:\n",
    "    if r.importances_mean[i] - 2 * r.importances_std[i] > 0:\n",
    "        print(f\"{FEATURES[i]:<25}\"\n",
    "              f\"{r.importances_mean[i]:.3f}\"\n",
    "              f\" +/- {r.importances_std[i]:.3f}\")"
   ]
  },
  {
   "cell_type": "markdown",
   "id": "3d5ff01c-7c8c-481d-8e8c-b7f9df4e88be",
   "metadata": {},
   "source": [
    "Nessa etapa, verificamos a importância que cada feature tinha no nossos resultados e plotamos um gráfico para fazer essa análise com o fim de remover alguma que não fosse relevante. Depois de analisá-los, decidimos tirar o ano do campeonato para métodos futuros de modelagem."
   ]
  },
  {
   "cell_type": "markdown",
   "id": "9c71c95a-118d-4f8a-8141-92a5a0cb913b",
   "metadata": {},
   "source": [
    "## Usando Classificação"
   ]
  },
  {
   "cell_type": "markdown",
   "id": "73ceb63c-59e9-48ea-87de-4be1ee145dcf",
   "metadata": {},
   "source": [
    "### Reorganizando os dados"
   ]
  },
  {
   "cell_type": "code",
   "execution_count": 18,
   "id": "33520d32-f7f4-4270-b116-97f459788e0e",
   "metadata": {},
   "outputs": [
    {
     "data": {
      "text/html": [
       "<div>\n",
       "<style scoped>\n",
       "    .dataframe tbody tr th:only-of-type {\n",
       "        vertical-align: middle;\n",
       "    }\n",
       "\n",
       "    .dataframe tbody tr th {\n",
       "        vertical-align: top;\n",
       "    }\n",
       "\n",
       "    .dataframe thead th {\n",
       "        text-align: right;\n",
       "    }\n",
       "</style>\n",
       "<table border=\"1\" class=\"dataframe\">\n",
       "  <thead>\n",
       "    <tr style=\"text-align: right;\">\n",
       "      <th></th>\n",
       "      <th>ano_campeonato</th>\n",
       "      <th>data</th>\n",
       "      <th>horario</th>\n",
       "      <th>rodada</th>\n",
       "      <th>estadio</th>\n",
       "      <th>arbitro</th>\n",
       "      <th>publico</th>\n",
       "      <th>time_man</th>\n",
       "      <th>time_vis</th>\n",
       "      <th>tecnico_man</th>\n",
       "      <th>tecnico_vis</th>\n",
       "      <th>colocacao_man</th>\n",
       "      <th>colocacao_vis</th>\n",
       "      <th>valor_equipe_titular_man</th>\n",
       "      <th>valor_equipe_titular_vis</th>\n",
       "      <th>idade_media_titular_man</th>\n",
       "      <th>idade_media_titular_vis</th>\n",
       "      <th>gols_man</th>\n",
       "      <th>gols_vis</th>\n",
       "      <th>resultado_man</th>\n",
       "    </tr>\n",
       "  </thead>\n",
       "  <tbody>\n",
       "    <tr>\n",
       "      <th>0</th>\n",
       "      <td>2007</td>\n",
       "      <td>2007-05-03</td>\n",
       "      <td>12:00</td>\n",
       "      <td>1</td>\n",
       "      <td>Estádio Governador Magalhães Pinto</td>\n",
       "      <td>Elmo Alves Resende Cunha</td>\n",
       "      <td>5116.0</td>\n",
       "      <td>Atlético-MG</td>\n",
       "      <td>Náutico</td>\n",
       "      <td>Tico dos Santos</td>\n",
       "      <td>Paulo César Gusmão</td>\n",
       "      <td>7.0</td>\n",
       "      <td>13.0</td>\n",
       "      <td>1650000.0</td>\n",
       "      <td>500000.0</td>\n",
       "      <td>24.6</td>\n",
       "      <td>26.4</td>\n",
       "      <td>2.0</td>\n",
       "      <td>1.0</td>\n",
       "      <td>Vitória</td>\n",
       "    </tr>\n",
       "    <tr>\n",
       "      <th>1</th>\n",
       "      <td>2007</td>\n",
       "      <td>2007-05-03</td>\n",
       "      <td>12:00</td>\n",
       "      <td>1</td>\n",
       "      <td>Estádio Jornalista Mário Filho</td>\n",
       "      <td>Leonardo Gaciba da Silva</td>\n",
       "      <td>7801.0</td>\n",
       "      <td>Flamengo</td>\n",
       "      <td>Palmeiras</td>\n",
       "      <td>Ney Franco</td>\n",
       "      <td>Caio Júnior</td>\n",
       "      <td>16.0</td>\n",
       "      <td>4.0</td>\n",
       "      <td>550000.0</td>\n",
       "      <td>3750000.0</td>\n",
       "      <td>26.2</td>\n",
       "      <td>26.7</td>\n",
       "      <td>2.0</td>\n",
       "      <td>4.0</td>\n",
       "      <td>Derrota</td>\n",
       "    </tr>\n",
       "    <tr>\n",
       "      <th>2</th>\n",
       "      <td>2007</td>\n",
       "      <td>2007-05-03</td>\n",
       "      <td>12:00</td>\n",
       "      <td>1</td>\n",
       "      <td>Estádio Jornalista Mário Filho</td>\n",
       "      <td>Wallace Nascimento Valente</td>\n",
       "      <td>12132.0</td>\n",
       "      <td>Fluminense</td>\n",
       "      <td>Cruzeiro</td>\n",
       "      <td>Renato Gaúcho</td>\n",
       "      <td>Dorival Júnior</td>\n",
       "      <td>11.0</td>\n",
       "      <td>10.0</td>\n",
       "      <td>7200000.0</td>\n",
       "      <td>5750000.0</td>\n",
       "      <td>24.4</td>\n",
       "      <td>24.1</td>\n",
       "      <td>2.0</td>\n",
       "      <td>2.0</td>\n",
       "      <td>Empate</td>\n",
       "    </tr>\n",
       "    <tr>\n",
       "      <th>3</th>\n",
       "      <td>2007</td>\n",
       "      <td>2007-05-03</td>\n",
       "      <td>12:00</td>\n",
       "      <td>1</td>\n",
       "      <td>Estádio Durival Britto e Silva</td>\n",
       "      <td>Elvecio Zequetto</td>\n",
       "      <td>3568.0</td>\n",
       "      <td>Paraná</td>\n",
       "      <td>Grêmio</td>\n",
       "      <td>Zetti</td>\n",
       "      <td>Mano Menezes</td>\n",
       "      <td>3.0</td>\n",
       "      <td>20.0</td>\n",
       "      <td>1000000.0</td>\n",
       "      <td>1500000.0</td>\n",
       "      <td>26.5</td>\n",
       "      <td>24.0</td>\n",
       "      <td>3.0</td>\n",
       "      <td>0.0</td>\n",
       "      <td>Vitória</td>\n",
       "    </tr>\n",
       "    <tr>\n",
       "      <th>4</th>\n",
       "      <td>2007</td>\n",
       "      <td>2007-05-03</td>\n",
       "      <td>12:00</td>\n",
       "      <td>1</td>\n",
       "      <td>Estádio Adelmar da Costa Carvalho</td>\n",
       "      <td>Antonio Hora Filho</td>\n",
       "      <td>23273.0</td>\n",
       "      <td>Sport Recife</td>\n",
       "      <td>Santos FC</td>\n",
       "      <td>Giba</td>\n",
       "      <td>Vanderlei Luxemburgo</td>\n",
       "      <td>2.0</td>\n",
       "      <td>19.0</td>\n",
       "      <td>2750000.0</td>\n",
       "      <td>5350000.0</td>\n",
       "      <td>26.2</td>\n",
       "      <td>24.4</td>\n",
       "      <td>4.0</td>\n",
       "      <td>1.0</td>\n",
       "      <td>Vitória</td>\n",
       "    </tr>\n",
       "  </tbody>\n",
       "</table>\n",
       "</div>"
      ],
      "text/plain": [
       "   ano_campeonato       data horario  rodada  \\\n",
       "0            2007 2007-05-03   12:00       1   \n",
       "1            2007 2007-05-03   12:00       1   \n",
       "2            2007 2007-05-03   12:00       1   \n",
       "3            2007 2007-05-03   12:00       1   \n",
       "4            2007 2007-05-03   12:00       1   \n",
       "\n",
       "                              estadio                     arbitro  publico  \\\n",
       "0  Estádio Governador Magalhães Pinto    Elmo Alves Resende Cunha   5116.0   \n",
       "1      Estádio Jornalista Mário Filho    Leonardo Gaciba da Silva   7801.0   \n",
       "2      Estádio Jornalista Mário Filho  Wallace Nascimento Valente  12132.0   \n",
       "3      Estádio Durival Britto e Silva            Elvecio Zequetto   3568.0   \n",
       "4   Estádio Adelmar da Costa Carvalho          Antonio Hora Filho  23273.0   \n",
       "\n",
       "       time_man   time_vis      tecnico_man           tecnico_vis  \\\n",
       "0   Atlético-MG    Náutico  Tico dos Santos    Paulo César Gusmão   \n",
       "1      Flamengo  Palmeiras       Ney Franco           Caio Júnior   \n",
       "2    Fluminense   Cruzeiro    Renato Gaúcho        Dorival Júnior   \n",
       "3        Paraná     Grêmio            Zetti          Mano Menezes   \n",
       "4  Sport Recife  Santos FC             Giba  Vanderlei Luxemburgo   \n",
       "\n",
       "   colocacao_man  colocacao_vis  valor_equipe_titular_man  \\\n",
       "0            7.0           13.0                 1650000.0   \n",
       "1           16.0            4.0                  550000.0   \n",
       "2           11.0           10.0                 7200000.0   \n",
       "3            3.0           20.0                 1000000.0   \n",
       "4            2.0           19.0                 2750000.0   \n",
       "\n",
       "   valor_equipe_titular_vis  idade_media_titular_man  idade_media_titular_vis  \\\n",
       "0                  500000.0                     24.6                     26.4   \n",
       "1                 3750000.0                     26.2                     26.7   \n",
       "2                 5750000.0                     24.4                     24.1   \n",
       "3                 1500000.0                     26.5                     24.0   \n",
       "4                 5350000.0                     26.2                     24.4   \n",
       "\n",
       "   gols_man  gols_vis resultado_man  \n",
       "0       2.0       1.0       Vitória  \n",
       "1       2.0       4.0       Derrota  \n",
       "2       2.0       2.0        Empate  \n",
       "3       3.0       0.0       Vitória  \n",
       "4       4.0       1.0       Vitória  "
      ]
     },
     "execution_count": 18,
     "metadata": {},
     "output_type": "execute_result"
    }
   ],
   "source": [
    "# Cria uma lista de condições\n",
    "Condições = [\n",
    "    (dfbr['gols_man'] > dfbr['gols_vis']),\n",
    "    (dfbr['gols_man'] == dfbr['gols_vis']),\n",
    "    (dfbr['gols_man'] < dfbr['gols_vis'])\n",
    "    ]\n",
    "\n",
    "# Cria uma lista com os possíveis resultados\n",
    "Valores = ['Vitória', 'Empate', 'Derrota']\n",
    "\n",
    "# Cria uma nova coluna com o resultado da partida para o mandante\n",
    "dfbr['resultado_man'] = np.select(Condições, Valores)\n",
    "\n",
    "dfbr.head()"
   ]
  },
  {
   "cell_type": "code",
   "execution_count": 19,
   "id": "26473c74-7f0a-485f-b7bb-68dedbcd8da8",
   "metadata": {},
   "outputs": [],
   "source": [
    "# Nova divisão dos dados do dataset em treino e teste\n",
    "\n",
    "from sklearn.model_selection import train_test_split # Divisão feita usando a função train_test_split\n",
    "\n",
    "TAMANHO_TESTE = 0.3 # Porcentagem destinada do dataset ao grupo de teste\n",
    "SEMENTE_ALEATORIA = 122106 # Definição de uma seed para evitar mudança desses grupos\n",
    "\n",
    "# Escolha dos índices e seleção feita pela função\n",
    "indices = dfbr.index\n",
    "indices_treino, indices_teste = train_test_split(\n",
    "    indices, test_size=TAMANHO_TESTE, random_state=SEMENTE_ALEATORIA\n",
    ")\n",
    "\n",
    "# Atribuição dos índices escolhidos aos dados\n",
    "dfbr_treino = dfbr.loc[indices_treino].sort_index()\n",
    "dfbr_teste = dfbr.loc[indices_teste].sort_index()\n",
    "\n",
    "# Aqui são escolhidos os atributos do dataset e é definido o target \n",
    "\n",
    "FEATURES = [\"valor_equipe_titular_man\",\"publico\",\"idade_media_titular_man\",\"colocacao_man\",\"valor_equipe_titular_vis\",\"idade_media_titular_vis\",\"colocacao_vis\"]\n",
    "TARGET = [\"resultado_man\"]\n",
    "\n",
    "# Divide os dados para se adequarem aos modelos\n",
    "\n",
    "X_treino = dfbr_treino.reindex(FEATURES, axis=1).values\n",
    "y_treino = dfbr_treino.reindex(TARGET, axis=1).values\n",
    "X_teste = dfbr_teste.reindex(FEATURES, axis=1).values\n",
    "y_teste = dfbr_teste.reindex(TARGET, axis=1).values"
   ]
  },
  {
   "cell_type": "markdown",
   "id": "eba2e15e-6f2d-434e-b455-3dac118065ce",
   "metadata": {},
   "source": [
    "Nessa etapa reorganizamos os dados e decidimos trocar o target para uma melhor análise, uma vez que, trabalhar com o número de gols não era algo tão interresante na previsão por causa do RMSE e então decidimos tentar uma nova abordagem."
   ]
  },
  {
   "cell_type": "markdown",
   "id": "8840c2fa-387c-4446-962a-91e08c7c14e3",
   "metadata": {},
   "source": [
    "### k-NN"
   ]
  },
  {
   "cell_type": "code",
   "execution_count": 20,
   "id": "f49d3db9-584c-4ce2-9010-9b4108ebc4ef",
   "metadata": {},
   "outputs": [
    {
     "name": "stdout",
     "output_type": "stream",
     "text": [
      "Empate\n",
      "Accuracy: 0.3886255924170616\n"
     ]
    },
    {
     "name": "stderr",
     "output_type": "stream",
     "text": [
      "c:\\venv\\ilumpy\\lib\\site-packages\\sklearn\\neighbors\\_classification.py:179: DataConversionWarning: A column-vector y was passed when a 1d array was expected. Please change the shape of y to (n_samples,), for example using ravel().\n",
      "  return self._fit(X, y)\n"
     ]
    }
   ],
   "source": [
    "from sklearn.neighbors import KNeighborsClassifier\n",
    "from sklearn import metrics\n",
    "\n",
    "# cria o modelo\n",
    "modelo_knn = KNeighborsClassifier()\n",
    "\n",
    "# treina o modelo\n",
    "modelo_knn.fit(X_treino, y_treino)\n",
    "\n",
    "# realiza uma previsão usando o modelo treinado\n",
    "previsao = modelo_knn.predict(X_teste)\n",
    "print(previsao[0])\n",
    "\n",
    "# Precisão do método\n",
    "print(\"Accuracy:\",metrics.accuracy_score(y_teste, previsao))"
   ]
  },
  {
   "cell_type": "code",
   "execution_count": 28,
   "id": "22b6f634-7b52-4c09-ac50-202aefc69365",
   "metadata": {},
   "outputs": [
    {
     "name": "stdout",
     "output_type": "stream",
     "text": [
      "[['Derrota' 449]\n",
      " ['Empate' 348]\n",
      " ['Vitória' 680]]\n"
     ]
    }
   ],
   "source": [
    "# Matriz com a quantidade de resultados previstos\n",
    "\n",
    "resultados_mandante, quantidade = np.unique(previsao, return_counts=True)\n",
    "Matriz_Resultados_Previstos_kNN = np.column_stack((resultados_mandante, quantidade)) \n",
    "print(Matriz_Resultados_Previstos_kNN)"
   ]
  },
  {
   "cell_type": "code",
   "execution_count": 25,
   "id": "a463d32e-1928-47ea-8dbd-d6f1f4e8ca52",
   "metadata": {},
   "outputs": [
    {
     "name": "stdout",
     "output_type": "stream",
     "text": [
      "[[102 105 112]\n",
      " [136  87 183]\n",
      " [211 156 385]]\n"
     ]
    }
   ],
   "source": [
    "# Matriz de Confusão\n",
    "\n",
    "from sklearn.metrics import confusion_matrix\n",
    "Matriz_Confusao_kNN = confusion_matrix(y_teste, previsao)\n",
    "print(Matriz_Confusao_kNN)"
   ]
  },
  {
   "cell_type": "code",
   "execution_count": 26,
   "id": "2c2f3c79-d99c-4864-ab46-fb37fcea4240",
   "metadata": {},
   "outputs": [
    {
     "name": "stdout",
     "output_type": "stream",
     "text": [
      "              precision    recall  f1-score   support\n",
      "\n",
      "     Derrota       0.23      0.32      0.27       319\n",
      "      Empate       0.25      0.21      0.23       406\n",
      "     Vitória       0.57      0.51      0.54       752\n",
      "\n",
      "    accuracy                           0.39      1477\n",
      "   macro avg       0.35      0.35      0.34      1477\n",
      "weighted avg       0.41      0.39      0.39      1477\n",
      "\n"
     ]
    }
   ],
   "source": [
    "# Report com diferentes métricas\n",
    "\n",
    "from sklearn.metrics import classification_report\n",
    "print(classification_report(y_teste, previsao))"
   ]
  },
  {
   "cell_type": "markdown",
   "id": "52ad1379-d9bf-4d2c-a5dd-717a0328f486",
   "metadata": {},
   "source": [
    "Com uma nova abordagem focada em resultados, ou seja, Vitória, Empate e Derrota do time mandante, conseguimos ter uma melhor dinâmica dos dados mas uma pior acurácia usando o K Vizinhos. Nessa modelagem também, tivemos uma precisão de 57% para vitórias e acurácia de 38% para o modelo."
   ]
  },
  {
   "cell_type": "markdown",
   "id": "01378ac0-5395-4551-9a5f-79b1d87aedab",
   "metadata": {},
   "source": [
    "### Árvore de Decisão"
   ]
  },
  {
   "cell_type": "code",
   "execution_count": 29,
   "id": "797c89e4-a63b-4f84-9f7d-9cced218bd69",
   "metadata": {},
   "outputs": [
    {
     "name": "stdout",
     "output_type": "stream",
     "text": [
      "Vitória\n",
      "Accuracy: 0.4001354096140826\n"
     ]
    }
   ],
   "source": [
    "from sklearn.tree import DecisionTreeClassifier\n",
    "\n",
    "# cria o modelo\n",
    "modelo_dt = DecisionTreeClassifier(random_state=SEMENTE_ALEATORIA)\n",
    "\n",
    "# treina o modelo\n",
    "modelo_dt.fit(X_treino, y_treino)\n",
    "\n",
    "# realiza uma previsão usando o modelo treinado\n",
    "previsao = modelo_dt.predict(X_teste)\n",
    "print(previsao[0])\n",
    "\n",
    "# Precisão do método\n",
    "print(\"Accuracy:\",metrics.accuracy_score(y_teste, previsao))"
   ]
  },
  {
   "cell_type": "code",
   "execution_count": 30,
   "id": "558b987c-d3f0-4803-b4af-028ec8f39b8f",
   "metadata": {},
   "outputs": [
    {
     "name": "stdout",
     "output_type": "stream",
     "text": [
      "[['Derrota' 331]\n",
      " ['Empate' 436]\n",
      " ['Vitória' 710]]\n"
     ]
    }
   ],
   "source": [
    "# Matriz com a quantidade de resultados previstos\n",
    "\n",
    "resultados_mandante, quantidade = np.unique(previsao, return_counts=True)\n",
    "Matriz_Resultados_Previstos_AD = np.column_stack((resultados_mandante, quantidade)) \n",
    "print(Matriz_Resultados_Previstos_AD)"
   ]
  },
  {
   "cell_type": "code",
   "execution_count": 31,
   "id": "c8f3a727-ba84-4dcd-a2ad-6aa6310aa92e",
   "metadata": {},
   "outputs": [
    {
     "name": "stdout",
     "output_type": "stream",
     "text": [
      "[[ 95  90 134]\n",
      " [ 86 120 200]\n",
      " [150 226 376]]\n"
     ]
    }
   ],
   "source": [
    "# Matriz de Confusão\n",
    "\n",
    "from sklearn.metrics import confusion_matrix\n",
    "Matriz_Confusao_AD = confusion_matrix(y_teste, previsao)\n",
    "print(Matriz_Confusao_AD)"
   ]
  },
  {
   "cell_type": "code",
   "execution_count": 33,
   "id": "fe4ca50b-6b4a-47cb-a2da-b81b9aca4f60",
   "metadata": {},
   "outputs": [
    {
     "name": "stdout",
     "output_type": "stream",
     "text": [
      "              precision    recall  f1-score   support\n",
      "\n",
      "     Derrota       0.29      0.30      0.29       319\n",
      "      Empate       0.28      0.30      0.29       406\n",
      "     Vitória       0.53      0.50      0.51       752\n",
      "\n",
      "    accuracy                           0.40      1477\n",
      "   macro avg       0.36      0.36      0.36      1477\n",
      "weighted avg       0.41      0.40      0.40      1477\n",
      "\n"
     ]
    }
   ],
   "source": [
    "# Report com diferentes métricas\n",
    "\n",
    "from sklearn.metrics import classification_report\n",
    "print(classification_report(y_teste, previsao))"
   ]
  },
  {
   "cell_type": "markdown",
   "id": "1859e302-df55-451b-ba4a-3607769e17f1",
   "metadata": {},
   "source": [
    "Aqui tivemos uma acurácia de 40% e uma precisão no acerto de vitórias 53%."
   ]
  },
  {
   "cell_type": "markdown",
   "id": "afd3856a-91b3-4877-bc46-9bc29088572d",
   "metadata": {},
   "source": [
    "### Floresta Aleatória"
   ]
  },
  {
   "cell_type": "code",
   "execution_count": 34,
   "id": "07e2457f-872d-4c89-8d8e-1d3a0057f555",
   "metadata": {},
   "outputs": [
    {
     "name": "stdout",
     "output_type": "stream",
     "text": [
      "Vitória\n",
      "Accuracy: 0.4928909952606635\n"
     ]
    }
   ],
   "source": [
    "# Floresta Aleatória\n",
    "\n",
    "from sklearn.ensemble import RandomForestClassifier\n",
    "\n",
    "# cria o modelo\n",
    "modelo_rf = RandomForestClassifier(random_state=SEMENTE_ALEATORIA)\n",
    "\n",
    "# treina o modelo\n",
    "modelo_rf.fit(X_treino, y_treino.ravel())\n",
    "\n",
    "# realiza uma previsão usando o modelo treinado\n",
    "previsao = modelo_rf.predict(X_teste)\n",
    "print(previsao[0])\n",
    "\n",
    "# Precisão do método\n",
    "print(\"Accuracy:\",metrics.accuracy_score(y_teste, previsao))"
   ]
  },
  {
   "cell_type": "code",
   "execution_count": 35,
   "id": "7920af85-a6a0-4383-84ba-dee4961dfe11",
   "metadata": {},
   "outputs": [
    {
     "name": "stdout",
     "output_type": "stream",
     "text": [
      "[['Derrota' 213]\n",
      " ['Empate' 204]\n",
      " ['Vitória' 1060]]\n"
     ]
    }
   ],
   "source": [
    "# Matriz com a quantidade de resultados previstos\n",
    "\n",
    "resultados_mandante, quantidade = np.unique(previsao, return_counts=True)\n",
    "Matriz_Resultados_Previstos_FA = np.column_stack((resultados_mandante, quantidade)) \n",
    "print(Matriz_Resultados_Previstos_FA)"
   ]
  },
  {
   "cell_type": "code",
   "execution_count": 36,
   "id": "ff76cbfb-55d9-4699-a089-d8736cb37108",
   "metadata": {},
   "outputs": [
    {
     "name": "stdout",
     "output_type": "stream",
     "text": [
      "[[ 80  62 177]\n",
      " [ 55  58 293]\n",
      " [ 78  84 590]]\n"
     ]
    }
   ],
   "source": [
    "# Matriz de Confusão\n",
    "\n",
    "from sklearn.metrics import confusion_matrix\n",
    "Matriz_Confusao_FA = confusion_matrix(y_teste, previsao)\n",
    "print(Matriz_Confusao_FA)"
   ]
  },
  {
   "cell_type": "code",
   "execution_count": 37,
   "id": "69ec6600-172b-4451-b00b-da08777c0502",
   "metadata": {},
   "outputs": [
    {
     "name": "stdout",
     "output_type": "stream",
     "text": [
      "              precision    recall  f1-score   support\n",
      "\n",
      "     Derrota       0.38      0.25      0.30       319\n",
      "      Empate       0.28      0.14      0.19       406\n",
      "     Vitória       0.56      0.78      0.65       752\n",
      "\n",
      "    accuracy                           0.49      1477\n",
      "   macro avg       0.41      0.39      0.38      1477\n",
      "weighted avg       0.44      0.49      0.45      1477\n",
      "\n"
     ]
    }
   ],
   "source": [
    "# Report com diferentes métricas\n",
    "\n",
    "from sklearn.metrics import classification_report\n",
    "print(classification_report(y_teste, previsao))"
   ]
  },
  {
   "cell_type": "code",
   "execution_count": 38,
   "id": "da4431e9-b6bd-44cc-9094-6c5e523ea72d",
   "metadata": {},
   "outputs": [
    {
     "name": "stdout",
     "output_type": "stream",
     "text": [
      "A acurácia do modelo RF usando n_estimators=50 max_leaf_nodes=3 e max_depth=2 foi de 0.5091.\n",
      "A acurácia do modelo RF usando n_estimators=50 max_leaf_nodes=3 e max_depth=3 foi de 0.5091.\n",
      "A acurácia do modelo RF usando n_estimators=50 max_leaf_nodes=3 e max_depth=6 foi de 0.5091.\n",
      "A acurácia do modelo RF usando n_estimators=50 max_leaf_nodes=6 e max_depth=2 foi de 0.5091.\n",
      "A acurácia do modelo RF usando n_estimators=50 max_leaf_nodes=6 e max_depth=3 foi de 0.5105.\n",
      "A acurácia do modelo RF usando n_estimators=50 max_leaf_nodes=6 e max_depth=6 foi de 0.5091.\n",
      "A acurácia do modelo RF usando n_estimators=50 max_leaf_nodes=9 e max_depth=2 foi de 0.5091.\n",
      "A acurácia do modelo RF usando n_estimators=50 max_leaf_nodes=9 e max_depth=3 foi de 0.5125.\n",
      "A acurácia do modelo RF usando n_estimators=50 max_leaf_nodes=9 e max_depth=6 foi de 0.5146.\n"
     ]
    }
   ],
   "source": [
    "# Floresta Aleatória com hiperparâmetros\n",
    "\n",
    "from itertools import product\n",
    "\n",
    "NUM_ARVORES = [50]\n",
    "NUM_FOLHAS = [3, 6, 9]\n",
    "NUM_PROFUNDIDADE = [2, 3, 6]\n",
    "\n",
    "for n_folhas, n_profundidade, n_arvores in product(\n",
    "    NUM_FOLHAS, NUM_PROFUNDIDADE, NUM_ARVORES\n",
    "):\n",
    "    modelo_rf = RandomForestClassifier(\n",
    "        n_estimators=n_arvores,\n",
    "        max_leaf_nodes=n_folhas,\n",
    "        max_depth=n_profundidade,\n",
    "        random_state=SEMENTE_ALEATORIA,\n",
    "        n_jobs=4,\n",
    "    )\n",
    "\n",
    "    modelo_rf.fit(X_treino, y_treino.ravel())\n",
    "\n",
    "    y_verdadeiro = y_teste\n",
    "    y_previsao = modelo_rf.predict(X_teste)\n",
    "    \n",
    "    acuracia = metrics.accuracy_score(y_teste, y_previsao)\n",
    "    #print(\"Accuracy:\",acuracia)\n",
    "    \n",
    "    print(\n",
    "        f\"A acurácia do modelo RF usando \"\n",
    "        f\"n_estimators={n_arvores} max_leaf_nodes={n_folhas} \"\n",
    "        f\"e max_depth={n_profundidade} foi de {acuracia:.4f}.\"\n",
    "    )"
   ]
  },
  {
   "cell_type": "code",
   "execution_count": 39,
   "id": "4085e9e4-2aba-48e5-92b3-cf69e7ecfba4",
   "metadata": {},
   "outputs": [
    {
     "name": "stdout",
     "output_type": "stream",
     "text": [
      "[['Derrota' 69]\n",
      " ['Empate' 1]\n",
      " ['Vitória' 1407]]\n"
     ]
    }
   ],
   "source": [
    "# Matriz com a quantidade de resultados previstos\n",
    "\n",
    "resultados_mandante, quantidade = np.unique(y_previsao, return_counts=True)\n",
    "Matriz_Resultados_Previstos_FAH = np.column_stack((resultados_mandante, quantidade)) \n",
    "print(Matriz_Resultados_Previstos_FAH)"
   ]
  },
  {
   "cell_type": "code",
   "execution_count": 40,
   "id": "6138a44e-437b-4ae6-8729-62db7bcc13b0",
   "metadata": {},
   "outputs": [
    {
     "name": "stdout",
     "output_type": "stream",
     "text": [
      "[[ 30   1 288]\n",
      " [ 17   0 389]\n",
      " [ 22   0 730]]\n"
     ]
    }
   ],
   "source": [
    "# Matriz de Confusão\n",
    "\n",
    "from sklearn.metrics import confusion_matrix\n",
    "Matriz_Confusao_FAH = confusion_matrix(y_teste, y_previsao)\n",
    "print(Matriz_Confusao_FAH)"
   ]
  },
  {
   "cell_type": "code",
   "execution_count": 41,
   "id": "956032fb-b112-4ecb-991c-12c8cd668e8a",
   "metadata": {},
   "outputs": [
    {
     "name": "stdout",
     "output_type": "stream",
     "text": [
      "              precision    recall  f1-score   support\n",
      "\n",
      "     Derrota       0.43      0.09      0.15       319\n",
      "      Empate       0.00      0.00      0.00       406\n",
      "     Vitória       0.52      0.97      0.68       752\n",
      "\n",
      "    accuracy                           0.51      1477\n",
      "   macro avg       0.32      0.35      0.28      1477\n",
      "weighted avg       0.36      0.51      0.38      1477\n",
      "\n"
     ]
    }
   ],
   "source": [
    "# Report com diferentes métricas\n",
    "\n",
    "from sklearn.metrics import classification_report\n",
    "print(classification_report(y_teste, y_previsao))"
   ]
  },
  {
   "cell_type": "markdown",
   "id": "e5c6c7a1-791e-443a-be8d-48fa46138531",
   "metadata": {},
   "source": [
    "Na floresta aleatória tivemos uma boa acurácia de 49,3% e uma precisão para vitória de 56%. Entretanto, ao realizar a visualização do resultado vimos que tivemos um número alto de vitórias, muito mais que empates e derrotas, mais ainda sim com uma boa dispersão dos dados.\n",
    "\n",
    "Quando usamos hiperparâmetros de número de árvores, folhas e profundidades eles forneceram uma acurácia de 51,4% e uma precisão para vitória de 52%. Todavia, vimos que o modelo previu um número discrepante de vitórias, classificando a quase totalidade dos jogos como vitória do mandante. Acreditamos que isso aconteceu por causa de uma hiperespecialização das folhas que considerou pequenas diferenças de valores e deu vitória para o maior, mesmo que com uma diferença pouco relevante."
   ]
  }
 ],
 "metadata": {
  "kernelspec": {
   "display_name": "ilumpy",
   "language": "python",
   "name": "ilumpy"
  },
  "language_info": {
   "codemirror_mode": {
    "name": "ipython",
    "version": 3
   },
   "file_extension": ".py",
   "mimetype": "text/x-python",
   "name": "python",
   "nbconvert_exporter": "python",
   "pygments_lexer": "ipython3",
   "version": "3.9.7"
  }
 },
 "nbformat": 4,
 "nbformat_minor": 5
}
